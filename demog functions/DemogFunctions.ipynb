{
 "metadata": {
  "language_info": {
   "codemirror_mode": {
    "name": "ipython",
    "version": 3
   },
   "file_extension": ".py",
   "mimetype": "text/x-python",
   "name": "python",
   "nbconvert_exporter": "python",
   "pygments_lexer": "ipython3",
   "version": "3.8.6-final"
  },
  "orig_nbformat": 2,
  "kernelspec": {
   "name": "python3",
   "display_name": "Python 3",
   "language": "python"
  }
 },
 "nbformat": 4,
 "nbformat_minor": 2,
 "cells": [
  {
   "cell_type": "code",
   "execution_count": 15,
   "metadata": {},
   "outputs": [],
   "source": [
    "import pandas as pd \n",
    "import numpy as np\n",
    "import matplotlib.pyplot as plt "
   ]
  },
  {
   "source": [
    "## Key Measure 1 - Population Growth Rates"
   ],
   "cell_type": "markdown",
   "metadata": {}
  },
  {
   "cell_type": "code",
   "execution_count": null,
   "metadata": {},
   "outputs": [],
   "source": []
  },
  {
   "source": [
    "## Key Measure 2 - Crude Death Rates and Standardized Crude Death Rates\n",
    "\n",
    "The first exercise that I wanted to do was to use Python to easily calculate Crude Death Rates and Standardized Crude Death Rates. The first method was to basically replicate excel and create all the individual columns for the rates before summing it up. This could potentially be useful if one wanted to graph out some of the data. "
   ],
   "cell_type": "markdown",
   "metadata": {}
  },
  {
   "cell_type": "code",
   "execution_count": 2,
   "metadata": {},
   "outputs": [],
   "source": [
    "japanew = pd.read_csv(R\"./Resources/japanew.csv\") #import sample dataset\n",
    "japanew[\"Japan_MX\"] = japanew.iloc[:,1]/japanew.iloc[:,2] #create Japan death rate\n",
    "japanew[\"EngW_MX\"] = japanew.iloc[:,3]/japanew.iloc[:,4] #create England Wales death rate\n",
    "\n",
    "#create log death rate\n",
    "japanew[\"Japan_Lg_MX\"] = np.log(japanew[\"Japan_MX\"])\n",
    "japanew[\"EngW_Lg_MX\"] = np.log(japanew[\"EngW_MX\"])\n",
    "\n",
    "#age structure\n",
    "japanew[\"Japan_AgeStr\"] = japanew.iloc[:,2]/japanew.iloc[:,2].sum() \n",
    "japanew[\"EngW_AgeStr\"] = japanew.iloc[:,4]/japanew.iloc[:,4].sum() \n",
    "japanew[\"MeanAgeStr\"] = (japanew[\"Japan_AgeStr\"]+japanew[\"EngW_AgeStr\"])/2\n",
    "\n",
    "#calculate standardized death rate\n",
    "japanew[\"Japan_Std_DR\"] = japanew[\"MeanAgeStr\"]*japanew[\"Japan_MX\"]\n",
    "japanew[\"EngW_Std_DR\"] = japanew[\"MeanAgeStr\"]*japanew[\"EngW_MX\"]\n",
    "\n",
    "jap_std_DR = japanew[\"Japan_Std_DR\"].sum()\n",
    "ew_std_DR = japanew[\"EngW_Std_DR\"].sum()"
   ]
  },
  {
   "source": [
    "Alternatively, one could combine everything into one big messy chunk of code like so. Both would return the same results except that one would be slightly more efficient."
   ],
   "cell_type": "markdown",
   "metadata": {}
  },
  {
   "cell_type": "code",
   "execution_count": 13,
   "metadata": {},
   "outputs": [],
   "source": [
    "jap_std_DR = ((japanew.iloc[:,1]/japanew.iloc[:,2])*((japanew.iloc[:,2]/japanew.iloc[:,2].sum()+japanew.iloc[:,4]/japanew.iloc[:,4].sum())/2)).sum()\n",
    "ew_std_DR = ((japanew.iloc[:,3]/japanew.iloc[:,4])*((japanew.iloc[:,4]/japanew.iloc[:,4].sum()+japanew.iloc[:,2]/japanew.iloc[:,2].sum())/2)).sum()"
   ]
  },
  {
   "cell_type": "code",
   "execution_count": null,
   "metadata": {},
   "outputs": [],
   "source": []
  }
 ]
}