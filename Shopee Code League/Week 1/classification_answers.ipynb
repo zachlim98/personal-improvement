{
 "metadata": {
  "language_info": {
   "codemirror_mode": {
    "name": "ipython",
    "version": 3
   },
   "file_extension": ".py",
   "mimetype": "text/x-python",
   "name": "python",
   "nbconvert_exporter": "python",
   "pygments_lexer": "ipython3",
   "version": "3.8.6-final"
  },
  "orig_nbformat": 2,
  "kernelspec": {
   "name": "python3",
   "display_name": "Python 3.8.6 32-bit",
   "metadata": {
    "interpreter": {
     "hash": "a080e381fb8d998a55638006a69e5958108d914a9dc610571a96145ee1400b24"
    }
   }
  }
 },
 "nbformat": 4,
 "nbformat_minor": 2,
 "cells": [
  {
   "cell_type": "code",
   "execution_count": 1,
   "metadata": {},
   "outputs": [],
   "source": [
    "import pandas as pd\n",
    "import numpy as np"
   ]
  },
  {
   "cell_type": "code",
   "execution_count": 2,
   "metadata": {},
   "outputs": [],
   "source": [
    "df = pd.read_json('contacts.json')"
   ]
  },
  {
   "cell_type": "code",
   "execution_count": 4,
   "metadata": {},
   "outputs": [],
   "source": [
    "df_grouped = df[[\"Id\",\"Email\",\"Phone\",\"OrderId\"]].melt(id_vars=\"Id\")"
   ]
  },
  {
   "cell_type": "code",
   "execution_count": 6,
   "metadata": {},
   "outputs": [
    {
     "output_type": "execute_result",
     "data": {
      "text/plain": [
       "                                                                                 Id  \\\n",
       "value                                                                                 \n",
       "                                  [1, 2, 4, 5, 10, 14, 15, 16, 25, 26, 32, 34, 3...   \n",
       "000002957                                                                  [318092]   \n",
       "00000837565                                                                [411745]   \n",
       "00001018140                                                                [333273]   \n",
       "0000109887                                                                 [170421]   \n",
       "...                                                                             ...   \n",
       "zzyYjbPWM@hotmail.com                                              [143089, 338473]   \n",
       "zzyacSRLb@gmail.com                                                        [425119]   \n",
       "zzylmjkoqfCkTOxi@hotmail.com                                               [146556]   \n",
       "zzyvKfCcQWPJdShGoItP@hotmail.com                                   [381064, 458030]   \n",
       "zzyvegdhAJTFNDRQhMS@hotmail.com                                            [232950]   \n",
       "\n",
       "                                                                           variable  \n",
       "value                                                                                \n",
       "                                  [Email, Email, Email, Email, Email, Email, Ema...  \n",
       "000002957                                                                   [Phone]  \n",
       "00000837565                                                                 [Phone]  \n",
       "00001018140                                                                 [Phone]  \n",
       "0000109887                                                                  [Phone]  \n",
       "...                                                                             ...  \n",
       "zzyYjbPWM@hotmail.com                                                [Email, Email]  \n",
       "zzyacSRLb@gmail.com                                                         [Email]  \n",
       "zzylmjkoqfCkTOxi@hotmail.com                                                [Email]  \n",
       "zzyvKfCcQWPJdShGoItP@hotmail.com                                     [Email, Email]  \n",
       "zzyvegdhAJTFNDRQhMS@hotmail.com                                             [Email]  \n",
       "\n",
       "[629136 rows x 2 columns]"
      ],
      "text/html": "<div>\n<style scoped>\n    .dataframe tbody tr th:only-of-type {\n        vertical-align: middle;\n    }\n\n    .dataframe tbody tr th {\n        vertical-align: top;\n    }\n\n    .dataframe thead th {\n        text-align: right;\n    }\n</style>\n<table border=\"1\" class=\"dataframe\">\n  <thead>\n    <tr style=\"text-align: right;\">\n      <th></th>\n      <th>Id</th>\n      <th>variable</th>\n    </tr>\n    <tr>\n      <th>value</th>\n      <th></th>\n      <th></th>\n    </tr>\n  </thead>\n  <tbody>\n    <tr>\n      <th></th>\n      <td>[1, 2, 4, 5, 10, 14, 15, 16, 25, 26, 32, 34, 3...</td>\n      <td>[Email, Email, Email, Email, Email, Email, Ema...</td>\n    </tr>\n    <tr>\n      <th>000002957</th>\n      <td>[318092]</td>\n      <td>[Phone]</td>\n    </tr>\n    <tr>\n      <th>00000837565</th>\n      <td>[411745]</td>\n      <td>[Phone]</td>\n    </tr>\n    <tr>\n      <th>00001018140</th>\n      <td>[333273]</td>\n      <td>[Phone]</td>\n    </tr>\n    <tr>\n      <th>0000109887</th>\n      <td>[170421]</td>\n      <td>[Phone]</td>\n    </tr>\n    <tr>\n      <th>...</th>\n      <td>...</td>\n      <td>...</td>\n    </tr>\n    <tr>\n      <th>zzyYjbPWM@hotmail.com</th>\n      <td>[143089, 338473]</td>\n      <td>[Email, Email]</td>\n    </tr>\n    <tr>\n      <th>zzyacSRLb@gmail.com</th>\n      <td>[425119]</td>\n      <td>[Email]</td>\n    </tr>\n    <tr>\n      <th>zzylmjkoqfCkTOxi@hotmail.com</th>\n      <td>[146556]</td>\n      <td>[Email]</td>\n    </tr>\n    <tr>\n      <th>zzyvKfCcQWPJdShGoItP@hotmail.com</th>\n      <td>[381064, 458030]</td>\n      <td>[Email, Email]</td>\n    </tr>\n    <tr>\n      <th>zzyvegdhAJTFNDRQhMS@hotmail.com</th>\n      <td>[232950]</td>\n      <td>[Email]</td>\n    </tr>\n  </tbody>\n</table>\n<p>629136 rows × 2 columns</p>\n</div>"
     },
     "metadata": {},
     "execution_count": 6
    }
   ],
   "source": [
    "df_grouped.groupby(\"value\").agg(lambda x: list(x))"
   ]
  },
  {
   "cell_type": "code",
   "execution_count": 27,
   "metadata": {},
   "outputs": [],
   "source": [
    "df_test = df[:]\n",
    "df_test = df_test.replace(r'^\\s*$', np.nan, regex=True)"
   ]
  },
  {
   "cell_type": "code",
   "execution_count": 28,
   "metadata": {},
   "outputs": [],
   "source": [
    "#Email value check\n",
    "df_email = df_test.drop(columns=['Phone','Contacts','OrderId'])\n",
    "df_email = df_email.groupby(['Email']).agg(lambda x: list(x))\n",
    "df_email = df_email[df_email['Id'].map(len) > 1]\n",
    "df_email.rename(columns={\"Id\":\"email_check\"}, inplace=True)"
   ]
  },
  {
   "cell_type": "code",
   "execution_count": 29,
   "metadata": {},
   "outputs": [],
   "source": [
    "df1 = df_test.merge(df_email, how ='left', on ='Email')"
   ]
  },
  {
   "cell_type": "code",
   "execution_count": 30,
   "metadata": {},
   "outputs": [],
   "source": [
    "#Phone value check\n",
    "df_phone = df_test.drop(columns=['Email','Contacts','OrderId'])\n",
    "df_phone = df_phone.groupby(['Phone']).agg(lambda x: list(x))\n",
    "df_phone = df_phone[df_phone['Id'].map(len) > 1]\n",
    "df_phone.rename(columns={\"Id\":\"phone_check\"}, inplace=True)"
   ]
  },
  {
   "cell_type": "code",
   "execution_count": 31,
   "metadata": {},
   "outputs": [],
   "source": [
    "df2 = df1.merge(df_phone, how ='left', on ='Phone')"
   ]
  },
  {
   "cell_type": "code",
   "execution_count": 32,
   "metadata": {},
   "outputs": [],
   "source": [
    "#OrderId value Check\n",
    "df_order = df_test.drop(columns=['Email','Contacts','Phone'])\n",
    "df_order = df_order.groupby(['OrderId']).agg(lambda x: list(x))\n",
    "df_order = df_order[df_order['Id'].map(len) > 1]\n",
    "df_order.rename(columns={\"Id\":\"order_check\"}, inplace=True)"
   ]
  },
  {
   "cell_type": "code",
   "execution_count": 33,
   "metadata": {},
   "outputs": [],
   "source": [
    "df3 = df2.merge(df_order, how ='left', on ='OrderId')"
   ]
  },
  {
   "cell_type": "code",
   "execution_count": 34,
   "metadata": {},
   "outputs": [],
   "source": [
    "df3['email_check'] = df3['email_check'].fillna(\"\").apply(list)\n",
    "df3['phone_check'] = df3['phone_check'].fillna(\"\").apply(list)\n",
    "df3['order_check'] = df3['order_check'].fillna(\"\").apply(list)\n",
    "df3['id_check'] = df3['email_check'] + df3['order_check'] + df3['phone_check']"
   ]
  },
  {
   "cell_type": "code",
   "execution_count": 35,
   "metadata": {},
   "outputs": [],
   "source": [
    "df3 = df3.drop(columns=['phone_check','email_check','order_check'])"
   ]
  },
  {
   "cell_type": "code",
   "execution_count": 36,
   "metadata": {},
   "outputs": [],
   "source": [
    "def indirect_check(row):\n",
    "    newlist = []\n",
    "    for i in row['id_check']:\n",
    "        newlist = newlist + df3['id_check'][i]\n",
    "\n",
    "def additional_indirect_check(row):\n",
    "    newlist = []\n",
    "    for i in row['id_check_ans']:\n",
    "        newlist = newlist + df3['id_check_ans'][i]\n",
    "    return newlist"
   ]
  },
  {
   "cell_type": "code",
   "execution_count": 77,
   "metadata": {},
   "outputs": [
    {
     "output_type": "stream",
     "name": "stdout",
     "text": [
      "[]\n[1, 2458, 476346]\n[2, 348955]\n[]\n[]\n"
     ]
    }
   ],
   "source": [
    "for row in df3.head().itertuples():\n",
    "    print(row.id_check)"
   ]
  },
  {
   "cell_type": "code",
   "execution_count": 82,
   "metadata": {},
   "outputs": [],
   "source": [
    "def indirect_check(row):\n",
    "    newlist = []\n",
    "    for i in row['id_check']:\n",
    "        newlist = newlist + df3['id_check'][i]"
   ]
  },
  {
   "cell_type": "code",
   "execution_count": null,
   "metadata": {},
   "outputs": [],
   "source": [
    "def itertuples_impl(df):\n",
    "  cutoff_date = datetime.date.today() + datetime.timedelta(days=2)\n",
    "  return pd.Series(\n",
    "    eisenhower_action(\n",
    "      row.priority == 'HIGH', row.due_date <= cutoff_date)\n",
    "    for row in df.itertuples()\n",
    "  )"
   ]
  },
  {
   "cell_type": "code",
   "execution_count": null,
   "metadata": {},
   "outputs": [],
   "source": [
    "def itertuples_indirectcheck(df):\n",
    "  return pd.Series(\n",
    "    newlist = []\n",
    "    for i in row['id_check']:\n",
    "        newlist = newlist + df3['id_check'][i]\n",
    "    return newlist\n",
    "    for row in df.itertuples()\n",
    "  )"
   ]
  },
  {
   "cell_type": "code",
   "execution_count": 37,
   "metadata": {},
   "outputs": [
    {
     "output_type": "stream",
     "name": "stdout",
     "text": [
      "9.27 s ± 75.1 ms per loop (mean ± std. dev. of 7 runs, 1 loop each)\n"
     ]
    }
   ],
   "source": [
    "%timeit df3['id_check_ans'] = df3.apply(indirect_check, axis=1)"
   ]
  },
  {
   "cell_type": "code",
   "execution_count": 110,
   "metadata": {},
   "outputs": [
    {
     "output_type": "execute_result",
     "data": {
      "text/plain": [
       "            Id                Email         Phone  Contacts  \\\n",
       "0            0       gkzAbIy@qq.com           NaN         1   \n",
       "1            1                  NaN  329442681752         4   \n",
       "2            2                  NaN    9125983679         0   \n",
       "3            3   mdllpYmE@gmail.com           NaN         0   \n",
       "4            4                  NaN     300364407         2   \n",
       "...        ...                  ...           ...       ...   \n",
       "499995  499995                  NaN   10072395382         2   \n",
       "499996  499996                  NaN  571709661031         4   \n",
       "499997  499997                  NaN    4541459979         2   \n",
       "499998  499998  RzSDsyH@hotmail.com   98947185431         1   \n",
       "499999  499999                  NaN  880053388839         0   \n",
       "\n",
       "                          OrderId           id_check  \\\n",
       "0                             NaN                 []   \n",
       "1       vDDJJcxfLtSfkooPhbYnJdxov  [1, 2458, 476346]   \n",
       "2                             NaN        [2, 348955]   \n",
       "3       bHquEnCbbsGLqllwryxPsNOxa                 []   \n",
       "4                             NaN                 []   \n",
       "...                           ...                ...   \n",
       "499995  whJlUOGNqjxCRzmIRdURQvlNv                 []   \n",
       "499996  JqIXOONvrwvJxZqNxCYHqnrKS                 []   \n",
       "499997  beXCZSzcHaBwAYoDcpQqjuAFO                 []   \n",
       "499998  ehjeFACGiwrERQxbziMxwOWku   [121111, 499998]   \n",
       "499999  JibSBRgzYdfzkzbTuGUXrcvDX                 []   \n",
       "\n",
       "                                             id_check_ans  \n",
       "0                                                      []  \n",
       "1       [1, 2458, 476346, 2458, 98519, 1, 2458, 476346...  \n",
       "2          [2, 348955, 159312, 322639, 348955, 2, 348955]  \n",
       "3                                                      []  \n",
       "4                                                      []  \n",
       "...                                                   ...  \n",
       "499995                                                 []  \n",
       "499996                                                 []  \n",
       "499997                                                 []  \n",
       "499998                   [121111, 499998, 121111, 499998]  \n",
       "499999                                                 []  \n",
       "\n",
       "[500000 rows x 7 columns]"
      ],
      "text/html": "<div>\n<style scoped>\n    .dataframe tbody tr th:only-of-type {\n        vertical-align: middle;\n    }\n\n    .dataframe tbody tr th {\n        vertical-align: top;\n    }\n\n    .dataframe thead th {\n        text-align: right;\n    }\n</style>\n<table border=\"1\" class=\"dataframe\">\n  <thead>\n    <tr style=\"text-align: right;\">\n      <th></th>\n      <th>Id</th>\n      <th>Email</th>\n      <th>Phone</th>\n      <th>Contacts</th>\n      <th>OrderId</th>\n      <th>id_check</th>\n      <th>id_check_ans</th>\n    </tr>\n  </thead>\n  <tbody>\n    <tr>\n      <th>0</th>\n      <td>0</td>\n      <td>gkzAbIy@qq.com</td>\n      <td>NaN</td>\n      <td>1</td>\n      <td>NaN</td>\n      <td>[]</td>\n      <td>[]</td>\n    </tr>\n    <tr>\n      <th>1</th>\n      <td>1</td>\n      <td>NaN</td>\n      <td>329442681752</td>\n      <td>4</td>\n      <td>vDDJJcxfLtSfkooPhbYnJdxov</td>\n      <td>[1, 2458, 476346]</td>\n      <td>[1, 2458, 476346, 2458, 98519, 1, 2458, 476346...</td>\n    </tr>\n    <tr>\n      <th>2</th>\n      <td>2</td>\n      <td>NaN</td>\n      <td>9125983679</td>\n      <td>0</td>\n      <td>NaN</td>\n      <td>[2, 348955]</td>\n      <td>[2, 348955, 159312, 322639, 348955, 2, 348955]</td>\n    </tr>\n    <tr>\n      <th>3</th>\n      <td>3</td>\n      <td>mdllpYmE@gmail.com</td>\n      <td>NaN</td>\n      <td>0</td>\n      <td>bHquEnCbbsGLqllwryxPsNOxa</td>\n      <td>[]</td>\n      <td>[]</td>\n    </tr>\n    <tr>\n      <th>4</th>\n      <td>4</td>\n      <td>NaN</td>\n      <td>300364407</td>\n      <td>2</td>\n      <td>NaN</td>\n      <td>[]</td>\n      <td>[]</td>\n    </tr>\n    <tr>\n      <th>...</th>\n      <td>...</td>\n      <td>...</td>\n      <td>...</td>\n      <td>...</td>\n      <td>...</td>\n      <td>...</td>\n      <td>...</td>\n    </tr>\n    <tr>\n      <th>499995</th>\n      <td>499995</td>\n      <td>NaN</td>\n      <td>10072395382</td>\n      <td>2</td>\n      <td>whJlUOGNqjxCRzmIRdURQvlNv</td>\n      <td>[]</td>\n      <td>[]</td>\n    </tr>\n    <tr>\n      <th>499996</th>\n      <td>499996</td>\n      <td>NaN</td>\n      <td>571709661031</td>\n      <td>4</td>\n      <td>JqIXOONvrwvJxZqNxCYHqnrKS</td>\n      <td>[]</td>\n      <td>[]</td>\n    </tr>\n    <tr>\n      <th>499997</th>\n      <td>499997</td>\n      <td>NaN</td>\n      <td>4541459979</td>\n      <td>2</td>\n      <td>beXCZSzcHaBwAYoDcpQqjuAFO</td>\n      <td>[]</td>\n      <td>[]</td>\n    </tr>\n    <tr>\n      <th>499998</th>\n      <td>499998</td>\n      <td>RzSDsyH@hotmail.com</td>\n      <td>98947185431</td>\n      <td>1</td>\n      <td>ehjeFACGiwrERQxbziMxwOWku</td>\n      <td>[121111, 499998]</td>\n      <td>[121111, 499998, 121111, 499998]</td>\n    </tr>\n    <tr>\n      <th>499999</th>\n      <td>499999</td>\n      <td>NaN</td>\n      <td>880053388839</td>\n      <td>0</td>\n      <td>JibSBRgzYdfzkzbTuGUXrcvDX</td>\n      <td>[]</td>\n      <td>[]</td>\n    </tr>\n  </tbody>\n</table>\n<p>500000 rows × 7 columns</p>\n</div>"
     },
     "metadata": {},
     "execution_count": 110
    }
   ],
   "source": [
    "df3"
   ]
  },
  {
   "cell_type": "code",
   "execution_count": 133,
   "metadata": {},
   "outputs": [
    {
     "output_type": "stream",
     "name": "stdout",
     "text": [
      "1\n2458\n476346\n2\n348955\n"
     ]
    }
   ],
   "source": [
    "for t in range(len(df3.head())):\n",
    "    for row in df3.head()[\"id_check\"][t]: \n",
    "        print(row)"
   ]
  },
  {
   "cell_type": "code",
   "execution_count": 124,
   "metadata": {},
   "outputs": [
    {
     "output_type": "error",
     "ename": "AttributeError",
     "evalue": "'str' object has no attribute 'id_check'",
     "traceback": [
      "\u001b[1;31m---------------------------------------------------------------------------\u001b[0m",
      "\u001b[1;31mAttributeError\u001b[0m                            Traceback (most recent call last)",
      "\u001b[1;32m<ipython-input-124-6be2fa20b4f9>\u001b[0m in \u001b[0;36m<module>\u001b[1;34m\u001b[0m\n\u001b[1;32m----> 1\u001b[1;33m \u001b[1;33m[\u001b[0m\u001b[1;33m[\u001b[0m\u001b[0mrow\u001b[0m\u001b[1;33m.\u001b[0m\u001b[0mid_check\u001b[0m\u001b[1;33m[\u001b[0m\u001b[0mt\u001b[0m\u001b[1;33m]\u001b[0m\u001b[1;32mfor\u001b[0m \u001b[0mt\u001b[0m\u001b[1;33m,\u001b[0m\u001b[0md\u001b[0m \u001b[1;32min\u001b[0m \u001b[0menumerate\u001b[0m\u001b[1;33m(\u001b[0m\u001b[0mrow\u001b[0m\u001b[1;33m.\u001b[0m\u001b[0mid_check\u001b[0m\u001b[1;33m)\u001b[0m\u001b[1;33m]\u001b[0m \u001b[1;32mfor\u001b[0m \u001b[0mrow\u001b[0m \u001b[1;32min\u001b[0m \u001b[0mdf3\u001b[0m\u001b[1;33m.\u001b[0m\u001b[0mhead\u001b[0m\u001b[1;33m(\u001b[0m\u001b[1;33m)\u001b[0m\u001b[1;33m]\u001b[0m\u001b[1;33m\u001b[0m\u001b[1;33m\u001b[0m\u001b[0m\n\u001b[0m",
      "\u001b[1;32m<ipython-input-124-6be2fa20b4f9>\u001b[0m in \u001b[0;36m<listcomp>\u001b[1;34m(.0)\u001b[0m\n\u001b[1;32m----> 1\u001b[1;33m \u001b[1;33m[\u001b[0m\u001b[1;33m[\u001b[0m\u001b[0mrow\u001b[0m\u001b[1;33m.\u001b[0m\u001b[0mid_check\u001b[0m\u001b[1;33m[\u001b[0m\u001b[0mt\u001b[0m\u001b[1;33m]\u001b[0m\u001b[1;32mfor\u001b[0m \u001b[0mt\u001b[0m\u001b[1;33m,\u001b[0m\u001b[0md\u001b[0m \u001b[1;32min\u001b[0m \u001b[0menumerate\u001b[0m\u001b[1;33m(\u001b[0m\u001b[0mrow\u001b[0m\u001b[1;33m.\u001b[0m\u001b[0mid_check\u001b[0m\u001b[1;33m)\u001b[0m\u001b[1;33m]\u001b[0m \u001b[1;32mfor\u001b[0m \u001b[0mrow\u001b[0m \u001b[1;32min\u001b[0m \u001b[0mdf3\u001b[0m\u001b[1;33m.\u001b[0m\u001b[0mhead\u001b[0m\u001b[1;33m(\u001b[0m\u001b[1;33m)\u001b[0m\u001b[1;33m]\u001b[0m\u001b[1;33m\u001b[0m\u001b[1;33m\u001b[0m\u001b[0m\n\u001b[0m",
      "\u001b[1;31mAttributeError\u001b[0m: 'str' object has no attribute 'id_check'"
     ]
    }
   ],
   "source": [
    "[[[row.id_check[t] for t,d in enumerate(row.id_check)] + []] for row in df3.head()]"
   ]
  },
  {
   "cell_type": "code",
   "execution_count": 16,
   "metadata": {},
   "outputs": [],
   "source": [
    "def remove_duplicates_and_sort(row):\n",
    "    return sorted(list(dict.fromkeys(row['id_check_ans'])))\n",
    "\n",
    "df3['id_check_ans'] = df3.apply(remove_duplicates_and_sort, axis=1)\n",
    "df3['id_check_ans'] = df3.apply(additional_indirect_check, axis=1)"
   ]
  },
  {
   "cell_type": "code",
   "execution_count": 18,
   "metadata": {},
   "outputs": [],
   "source": [
    "def remove_duplicates_and_sort(row):\n",
    "    return sorted(list(dict.fromkeys(row['id_check_ans'])))"
   ]
  },
  {
   "cell_type": "code",
   "execution_count": 19,
   "metadata": {},
   "outputs": [],
   "source": [
    "df3['id_check_ans'] = df3.apply(remove_duplicates_and_sort, axis=1)"
   ]
  },
  {
   "cell_type": "code",
   "execution_count": null,
   "metadata": {},
   "outputs": [],
   "source": [
    "def single_ticket_correction(row):\n",
    "    if len(row['id_check']) == 0:\n",
    "        return [row['Id']]\n",
    "    else:\n",
    "        return row['id_check_ans']"
   ]
  },
  {
   "cell_type": "code",
   "execution_count": null,
   "metadata": {},
   "outputs": [],
   "source": [
    "df3['id_check_ans'] = df3.apply(single_ticket_correction, axis=1)"
   ]
  },
  {
   "cell_type": "code",
   "execution_count": null,
   "metadata": {},
   "outputs": [],
   "source": [
    "def format_answer(row):\n",
    "    answer = ''\n",
    "    for i in (row['id_check_ans']):\n",
    "        answer = answer + '-' + str(i)\n",
    "    return answer[1:]"
   ]
  },
  {
   "cell_type": "code",
   "execution_count": null,
   "metadata": {},
   "outputs": [],
   "source": [
    "df3['ticket_trace'] = df3.apply(format_answer, axis=1)"
   ]
  },
  {
   "cell_type": "code",
   "execution_count": null,
   "metadata": {},
   "outputs": [],
   "source": [
    "def calculate_contacts(row):\n",
    "    contact = 0\n",
    "    for i in row['id_check_ans']:\n",
    "        contact = contact + df3['Contacts'][i]\n",
    "    return contact"
   ]
  },
  {
   "cell_type": "code",
   "execution_count": null,
   "metadata": {},
   "outputs": [],
   "source": [
    "df3['calculated_contacts'] = df3.apply(calculate_contacts, axis=1)"
   ]
  },
  {
   "cell_type": "code",
   "execution_count": null,
   "metadata": {},
   "outputs": [],
   "source": [
    "df3['ticket_trace/contact'] = df3['ticket_trace'] + \",\" + df3['calculated_contacts'].apply(str)"
   ]
  },
  {
   "cell_type": "code",
   "execution_count": null,
   "metadata": {},
   "outputs": [],
   "source": [
    "df3 = df3.set_index('Id')"
   ]
  },
  {
   "cell_type": "code",
   "execution_count": null,
   "metadata": {},
   "outputs": [],
   "source": [
    "df3 = df3.drop(columns=['id_check','Email','Phone','Contacts','OrderId','id_check','id_check_ans','ticket_trace','calculated_contacts'])"
   ]
  },
  {
   "cell_type": "code",
   "execution_count": null,
   "metadata": {},
   "outputs": [],
   "source": [
    "df3.to_csv('answer.csv')"
   ]
  },
  {
   "cell_type": "code",
   "execution_count": 3,
   "metadata": {},
   "outputs": [],
   "source": [
    "df_selected = df[[\"Id\",\"Email\",\"Phone\",\"OrderId\"]]"
   ]
  },
  {
   "cell_type": "code",
   "execution_count": 4,
   "metadata": {},
   "outputs": [],
   "source": [
    "df_long = df_selected.melt(id_vars=\"Id\")"
   ]
  },
  {
   "cell_type": "code",
   "execution_count": 5,
   "metadata": {},
   "outputs": [
    {
     "output_type": "execute_result",
     "data": {
      "text/plain": [
       "             Id variable                      value\n",
       "0             0    Email             gkzAbIy@qq.com\n",
       "1             1    Email                           \n",
       "2             2    Email                           \n",
       "3             3    Email         mdllpYmE@gmail.com\n",
       "4             4    Email                           \n",
       "...         ...      ...                        ...\n",
       "1499995  499995  OrderId  whJlUOGNqjxCRzmIRdURQvlNv\n",
       "1499996  499996  OrderId  JqIXOONvrwvJxZqNxCYHqnrKS\n",
       "1499997  499997  OrderId  beXCZSzcHaBwAYoDcpQqjuAFO\n",
       "1499998  499998  OrderId  ehjeFACGiwrERQxbziMxwOWku\n",
       "1499999  499999  OrderId  JibSBRgzYdfzkzbTuGUXrcvDX\n",
       "\n",
       "[1500000 rows x 3 columns]"
      ],
      "text/html": "<div>\n<style scoped>\n    .dataframe tbody tr th:only-of-type {\n        vertical-align: middle;\n    }\n\n    .dataframe tbody tr th {\n        vertical-align: top;\n    }\n\n    .dataframe thead th {\n        text-align: right;\n    }\n</style>\n<table border=\"1\" class=\"dataframe\">\n  <thead>\n    <tr style=\"text-align: right;\">\n      <th></th>\n      <th>Id</th>\n      <th>variable</th>\n      <th>value</th>\n    </tr>\n  </thead>\n  <tbody>\n    <tr>\n      <th>0</th>\n      <td>0</td>\n      <td>Email</td>\n      <td>gkzAbIy@qq.com</td>\n    </tr>\n    <tr>\n      <th>1</th>\n      <td>1</td>\n      <td>Email</td>\n      <td></td>\n    </tr>\n    <tr>\n      <th>2</th>\n      <td>2</td>\n      <td>Email</td>\n      <td></td>\n    </tr>\n    <tr>\n      <th>3</th>\n      <td>3</td>\n      <td>Email</td>\n      <td>mdllpYmE@gmail.com</td>\n    </tr>\n    <tr>\n      <th>4</th>\n      <td>4</td>\n      <td>Email</td>\n      <td></td>\n    </tr>\n    <tr>\n      <th>...</th>\n      <td>...</td>\n      <td>...</td>\n      <td>...</td>\n    </tr>\n    <tr>\n      <th>1499995</th>\n      <td>499995</td>\n      <td>OrderId</td>\n      <td>whJlUOGNqjxCRzmIRdURQvlNv</td>\n    </tr>\n    <tr>\n      <th>1499996</th>\n      <td>499996</td>\n      <td>OrderId</td>\n      <td>JqIXOONvrwvJxZqNxCYHqnrKS</td>\n    </tr>\n    <tr>\n      <th>1499997</th>\n      <td>499997</td>\n      <td>OrderId</td>\n      <td>beXCZSzcHaBwAYoDcpQqjuAFO</td>\n    </tr>\n    <tr>\n      <th>1499998</th>\n      <td>499998</td>\n      <td>OrderId</td>\n      <td>ehjeFACGiwrERQxbziMxwOWku</td>\n    </tr>\n    <tr>\n      <th>1499999</th>\n      <td>499999</td>\n      <td>OrderId</td>\n      <td>JibSBRgzYdfzkzbTuGUXrcvDX</td>\n    </tr>\n  </tbody>\n</table>\n<p>1500000 rows × 3 columns</p>\n</div>"
     },
     "metadata": {},
     "execution_count": 5
    }
   ],
   "source": [
    "df_long"
   ]
  },
  {
   "cell_type": "code",
   "execution_count": 6,
   "metadata": {},
   "outputs": [],
   "source": [
    "df_long_grouped = df_long.groupby(\"value\").agg(lambda x: list(x))"
   ]
  },
  {
   "cell_type": "code",
   "execution_count": 107,
   "metadata": {},
   "outputs": [
    {
     "output_type": "execute_result",
     "data": {
      "text/plain": [
       "[[318092], [411745], [333273], [170421], [229812, 265783]]"
      ]
     },
     "metadata": {},
     "execution_count": 107
    }
   ],
   "source": [
    "[[row.Id[t] + for t,d in enumerate(row.Id)] for row in df_long_grouped[1:].head().itertuples()]"
   ]
  },
  {
   "cell_type": "code",
   "execution_count": 7,
   "metadata": {},
   "outputs": [],
   "source": [
    "my_list = list(df_long_grouped[\"Id\"][1:])"
   ]
  },
  {
   "cell_type": "code",
   "execution_count": 136,
   "metadata": {},
   "outputs": [
    {
     "output_type": "stream",
     "name": "stdout",
     "text": [
      "<built-in method values of dict object at 0x265522F8>\n"
     ]
    }
   ],
   "source": [
    "d = {} \n",
    "for lst in my_list: \n",
    "    d.setdefault(lst[-1], []).extend(lst)    "
   ]
  },
  {
   "cell_type": "code",
   "execution_count": 138,
   "metadata": {},
   "outputs": [],
   "source": [
    "sorted_dict = {k: d[k] for k in sorted(d)}"
   ]
  },
  {
   "cell_type": "code",
   "execution_count": 9,
   "metadata": {},
   "outputs": [],
   "source": [
    "l = my_list"
   ]
  },
  {
   "cell_type": "code",
   "execution_count": 10,
   "metadata": {},
   "outputs": [],
   "source": [
    "import networkx \n",
    "from networkx.algorithms.components.connected import connected_components\n",
    "\n",
    "def to_graph(l):\n",
    "    G = networkx.Graph()\n",
    "    for part in l:\n",
    "        # each sublist is a bunch of nodes\n",
    "        G.add_nodes_from(part)\n",
    "        # it also imlies a number of edges:\n",
    "        G.add_edges_from(to_edges(part))\n",
    "    return G\n",
    "\n",
    "def to_edges(l):\n",
    "    it = iter(l)\n",
    "    last = next(it)\n",
    "\n",
    "    for current in it:\n",
    "        yield last, current\n",
    "        last = current    \n",
    "\n",
    "G = to_graph(l)\n",
    "connected_list = [list(i) for i in connected_components(G)]"
   ]
  },
  {
   "cell_type": "code",
   "execution_count": 38,
   "metadata": {},
   "outputs": [],
   "source": [
    "temp_df = pd.DataFrame({'A':connected_list,\n",
    "'B':connected_list})"
   ]
  },
  {
   "cell_type": "code",
   "execution_count": 40,
   "metadata": {},
   "outputs": [
    {
     "output_type": "execute_result",
     "data": {
      "text/plain": [
       "             A                                                 B\n",
       "258167       0                                               [0]\n",
       "13330        1  [1, 165605, 2458, 140081, 115061, 98519, 476346]\n",
       "101946       2                       [159312, 2, 348955, 322639]\n",
       "245576       3                                               [3]\n",
       "53992        4                                               [4]\n",
       "...        ...                                               ...\n",
       "18969   499995                                          [499995]\n",
       "97669   499996                                          [499996]\n",
       "79193   499997                                          [499997]\n",
       "159285  499998                                  [499998, 121111]\n",
       "143666  499999                                          [499999]\n",
       "\n",
       "[500000 rows x 2 columns]"
      ],
      "text/html": "<div>\n<style scoped>\n    .dataframe tbody tr th:only-of-type {\n        vertical-align: middle;\n    }\n\n    .dataframe tbody tr th {\n        vertical-align: top;\n    }\n\n    .dataframe thead th {\n        text-align: right;\n    }\n</style>\n<table border=\"1\" class=\"dataframe\">\n  <thead>\n    <tr style=\"text-align: right;\">\n      <th></th>\n      <th>A</th>\n      <th>B</th>\n    </tr>\n  </thead>\n  <tbody>\n    <tr>\n      <th>258167</th>\n      <td>0</td>\n      <td>[0]</td>\n    </tr>\n    <tr>\n      <th>13330</th>\n      <td>1</td>\n      <td>[1, 165605, 2458, 140081, 115061, 98519, 476346]</td>\n    </tr>\n    <tr>\n      <th>101946</th>\n      <td>2</td>\n      <td>[159312, 2, 348955, 322639]</td>\n    </tr>\n    <tr>\n      <th>245576</th>\n      <td>3</td>\n      <td>[3]</td>\n    </tr>\n    <tr>\n      <th>53992</th>\n      <td>4</td>\n      <td>[4]</td>\n    </tr>\n    <tr>\n      <th>...</th>\n      <td>...</td>\n      <td>...</td>\n    </tr>\n    <tr>\n      <th>18969</th>\n      <td>499995</td>\n      <td>[499995]</td>\n    </tr>\n    <tr>\n      <th>97669</th>\n      <td>499996</td>\n      <td>[499996]</td>\n    </tr>\n    <tr>\n      <th>79193</th>\n      <td>499997</td>\n      <td>[499997]</td>\n    </tr>\n    <tr>\n      <th>159285</th>\n      <td>499998</td>\n      <td>[499998, 121111]</td>\n    </tr>\n    <tr>\n      <th>143666</th>\n      <td>499999</td>\n      <td>[499999]</td>\n    </tr>\n  </tbody>\n</table>\n<p>500000 rows × 2 columns</p>\n</div>"
     },
     "metadata": {},
     "execution_count": 40
    }
   ],
   "source": [
    "temp_df.explode('A').sort_values('A')"
   ]
  },
  {
   "cell_type": "code",
   "execution_count": 23,
   "metadata": {},
   "outputs": [],
   "source": [
    "L = [[1,4,6],[3,41],[41,78],[6,22,30]]"
   ]
  },
  {
   "cell_type": "code",
   "execution_count": 15,
   "metadata": {
    "tags": []
   },
   "outputs": [],
   "source": [
    "len_l = len(l)\n",
    "i = 0\n",
    "while i < (len_l - 1):\n",
    "    for j in range(i + 1, len_l):\n",
    "\n",
    "        # i,j iterate over all pairs of l's elements including new \n",
    "        # elements from merged pairs. We use len_l because len(l)\n",
    "        # may change as we iterate\n",
    "        i_set = set(l[i])\n",
    "        j_set = set(l[j])\n",
    "\n",
    "        if len(i_set.intersection(j_set)) > 0:\n",
    "            # Remove these two from list\n",
    "            l.pop(j)\n",
    "            l.pop(i)\n",
    "\n",
    "            # Merge them and append to the orig. list\n",
    "            ij_union = list(i_set.union(j_set))\n",
    "            l.append(ij_union)\n",
    "\n",
    "            # len(l) has changed\n",
    "            len_l -= 1\n",
    "\n",
    "            # adjust 'i' because elements shifted\n",
    "            i -= 1\n",
    "\n",
    "            # abort inner loop, continue with next l[i]\n",
    "            break\n",
    "\n",
    "    i += 1"
   ]
  },
  {
   "cell_type": "code",
   "execution_count": 29,
   "metadata": {},
   "outputs": [],
   "source": [
    "LL = set(itertools.chain.from_iterable(L)) \n",
    "\n",
    "for each in LL:\n",
    "  components = [x for x in L if each in x]\n",
    "  for i in components:\n",
    "    L.remove(i)\n",
    "  L += [list(set(itertools.chain.from_iterable(components)))]\n",
    "\n",
    "# then L = [['k'], ['a', 'c', 'b', 'e', 'd', 'g', 'f', 'o', 'p']]"
   ]
  },
  {
   "cell_type": "code",
   "execution_count": 37,
   "metadata": {},
   "outputs": [],
   "source": [
    "L = my_list"
   ]
  },
  {
   "cell_type": "code",
   "execution_count": null,
   "metadata": {},
   "outputs": [],
   "source": []
  }
 ]
}