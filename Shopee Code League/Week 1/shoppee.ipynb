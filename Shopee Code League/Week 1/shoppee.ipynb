{
 "metadata": {
  "language_info": {
   "codemirror_mode": {
    "name": "ipython",
    "version": 3
   },
   "file_extension": ".py",
   "mimetype": "text/x-python",
   "name": "python",
   "nbconvert_exporter": "python",
   "pygments_lexer": "ipython3",
   "version": "3.8.6-final"
  },
  "orig_nbformat": 2,
  "kernelspec": {
   "name": "python3",
   "display_name": "Python 3.8.6 32-bit",
   "metadata": {
    "interpreter": {
     "hash": "a080e381fb8d998a55638006a69e5958108d914a9dc610571a96145ee1400b24"
    }
   }
  }
 },
 "nbformat": 4,
 "nbformat_minor": 2,
 "cells": [
  {
   "cell_type": "code",
   "execution_count": 1,
   "metadata": {},
   "outputs": [],
   "source": [
    "import pandas as pd\n",
    "import numpy as np"
   ]
  },
  {
   "cell_type": "code",
   "execution_count": 2,
   "metadata": {},
   "outputs": [],
   "source": [
    "df = pd.read_json('contacts.json')\n",
    "df_grouped = df[[\"Id\",\"Email\",\"Phone\",\"OrderId\"]].melt(id_vars=\"Id\").groupby(\"value\").agg(lambda x: list(x))"
   ]
  },
  {
   "cell_type": "code",
   "execution_count": 6,
   "metadata": {},
   "outputs": [],
   "source": [
    "L = list(df_grouped[\"Id\"][1:])"
   ]
  },
  {
   "source": [
    "## Using Sets"
   ],
   "cell_type": "markdown",
   "metadata": {}
  },
  {
   "cell_type": "code",
   "execution_count": null,
   "metadata": {},
   "outputs": [],
   "source": [
    "import itertools\n",
    "\n",
    "LL = set(itertools.chain.from_iterable(L)) \n",
    "\n",
    "for each in LL:\n",
    "  components = [x for x in L if each in x]\n",
    "  for i in components:\n",
    "    L.remove(i)\n",
    "  L += [list(set(itertools.chain.from_iterable(components)))]"
   ]
  },
  {
   "source": [
    "## Using Networks"
   ],
   "cell_type": "markdown",
   "metadata": {}
  },
  {
   "cell_type": "code",
   "execution_count": 8,
   "metadata": {},
   "outputs": [],
   "source": [
    "import networkx as nx\n",
    "from networkx.algorithms.components.connected import connected_components\n",
    "\n",
    "def to_graph(l):\n",
    "    G = nx.Graph()\n",
    "    for part in l:\n",
    "        G.add_nodes_from(part)\n",
    "        G.add_edges_from(zip(part[:-1], part[1:]))\n",
    "    return G\n",
    "\n",
    "G = to_graph(L)\n",
    "connected_list = [list(i) for i in connected_components(G)]"
   ]
  },
  {
   "source": [
    "## Merging Lists"
   ],
   "cell_type": "markdown",
   "metadata": {}
  },
  {
   "cell_type": "code",
   "execution_count": 51,
   "metadata": {},
   "outputs": [],
   "source": [
    "temp_df = pd.DataFrame({'A':connected_list,\n",
    "'B':connected_list,'GroupID': range(0,len(connected_list))})\n",
    "temp_df = temp_df.explode('A').sort_values('A').reset_index().drop(\"index\", axis=1).rename(columns={\"A\":\"Id\", \"B\":\"trace\"})"
   ]
  },
  {
   "cell_type": "code",
   "execution_count": 53,
   "metadata": {},
   "outputs": [],
   "source": [
    "full_df = temp_df.join(df[\"Contacts\"], how=\"left\", on=\"Id\")\n",
    "full_df[\"contact_count\"] = full_df.groupby('GroupID')['Contacts'].transform(sum)"
   ]
  },
  {
   "cell_type": "code",
   "execution_count": 60,
   "metadata": {},
   "outputs": [
    {
     "output_type": "execute_result",
     "data": {
      "text/plain": [
       "            Id                                             trace  \\\n",
       "0            0                                               [0]   \n",
       "1            1  [1, 165605, 2458, 140081, 115061, 98519, 476346]   \n",
       "2            2                       [159312, 2, 348955, 322639]   \n",
       "3            3                                               [3]   \n",
       "4            4                                               [4]   \n",
       "...        ...                                               ...   \n",
       "499995  499995                                          [499995]   \n",
       "499996  499996                                          [499996]   \n",
       "499997  499997                                          [499997]   \n",
       "499998  499998                                  [499998, 121111]   \n",
       "499999  499999                                          [499999]   \n",
       "\n",
       "        contact_count  \n",
       "0                   1  \n",
       "1                  12  \n",
       "2                   4  \n",
       "3                   0  \n",
       "4                   2  \n",
       "...               ...  \n",
       "499995              2  \n",
       "499996              4  \n",
       "499997              2  \n",
       "499998              5  \n",
       "499999              0  \n",
       "\n",
       "[500000 rows x 3 columns]"
      ],
      "text/html": "<div>\n<style scoped>\n    .dataframe tbody tr th:only-of-type {\n        vertical-align: middle;\n    }\n\n    .dataframe tbody tr th {\n        vertical-align: top;\n    }\n\n    .dataframe thead th {\n        text-align: right;\n    }\n</style>\n<table border=\"1\" class=\"dataframe\">\n  <thead>\n    <tr style=\"text-align: right;\">\n      <th></th>\n      <th>Id</th>\n      <th>trace</th>\n      <th>contact_count</th>\n    </tr>\n  </thead>\n  <tbody>\n    <tr>\n      <th>0</th>\n      <td>0</td>\n      <td>[0]</td>\n      <td>1</td>\n    </tr>\n    <tr>\n      <th>1</th>\n      <td>1</td>\n      <td>[1, 165605, 2458, 140081, 115061, 98519, 476346]</td>\n      <td>12</td>\n    </tr>\n    <tr>\n      <th>2</th>\n      <td>2</td>\n      <td>[159312, 2, 348955, 322639]</td>\n      <td>4</td>\n    </tr>\n    <tr>\n      <th>3</th>\n      <td>3</td>\n      <td>[3]</td>\n      <td>0</td>\n    </tr>\n    <tr>\n      <th>4</th>\n      <td>4</td>\n      <td>[4]</td>\n      <td>2</td>\n    </tr>\n    <tr>\n      <th>...</th>\n      <td>...</td>\n      <td>...</td>\n      <td>...</td>\n    </tr>\n    <tr>\n      <th>499995</th>\n      <td>499995</td>\n      <td>[499995]</td>\n      <td>2</td>\n    </tr>\n    <tr>\n      <th>499996</th>\n      <td>499996</td>\n      <td>[499996]</td>\n      <td>4</td>\n    </tr>\n    <tr>\n      <th>499997</th>\n      <td>499997</td>\n      <td>[499997]</td>\n      <td>2</td>\n    </tr>\n    <tr>\n      <th>499998</th>\n      <td>499998</td>\n      <td>[499998, 121111]</td>\n      <td>5</td>\n    </tr>\n    <tr>\n      <th>499999</th>\n      <td>499999</td>\n      <td>[499999]</td>\n      <td>0</td>\n    </tr>\n  </tbody>\n</table>\n<p>500000 rows × 3 columns</p>\n</div>"
     },
     "metadata": {},
     "execution_count": 60
    }
   ],
   "source": [
    "full_df[[\"Id\", \"trace\", \"contact_count\"]]"
   ]
  },
  {
   "cell_type": "code",
   "execution_count": null,
   "metadata": {},
   "outputs": [],
   "source": []
  }
 ]
}