{
 "metadata": {
  "language_info": {
   "codemirror_mode": {
    "name": "ipython",
    "version": 3
   },
   "file_extension": ".py",
   "mimetype": "text/x-python",
   "name": "python",
   "nbconvert_exporter": "python",
   "pygments_lexer": "ipython3",
   "version": "3.8.6-final"
  },
  "orig_nbformat": 2,
  "kernelspec": {
   "name": "python3",
   "display_name": "Python 3.8.6 32-bit",
   "metadata": {
    "interpreter": {
     "hash": "a080e381fb8d998a55638006a69e5958108d914a9dc610571a96145ee1400b24"
    }
   }
  }
 },
 "nbformat": 4,
 "nbformat_minor": 2,
 "cells": [
  {
   "cell_type": "code",
   "execution_count": 1,
   "metadata": {},
   "outputs": [],
   "source": [
    "import pandas as pd\n",
    "import numpy as np"
   ]
  },
  {
   "cell_type": "code",
   "execution_count": 2,
   "metadata": {},
   "outputs": [],
   "source": [
    "df = pd.read_json('contacts.json')\n",
    "df_grouped = df[[\"Id\",\"Email\",\"Phone\",\"OrderId\"]].melt(id_vars=\"Id\").groupby(\"value\").agg(lambda x: list(x))"
   ]
  },
  {
   "cell_type": "code",
   "execution_count": 6,
   "metadata": {},
   "outputs": [],
   "source": [
    "L = list(df_grouped[\"Id\"][1:])"
   ]
  },
  {
   "source": [
    "## Using Sets"
   ],
   "cell_type": "markdown",
   "metadata": {}
  },
  {
   "cell_type": "code",
   "execution_count": null,
   "metadata": {},
   "outputs": [],
   "source": [
    "import itertools\n",
    "\n",
    "LL = set(itertools.chain.from_iterable(L)) \n",
    "\n",
    "for each in LL:\n",
    "  components = [x for x in L if each in x]\n",
    "  for i in components:\n",
    "    L.remove(i)\n",
    "  L += [list(set(itertools.chain.from_iterable(components)))]"
   ]
  },
  {
   "source": [
    "## Using Networks"
   ],
   "cell_type": "markdown",
   "metadata": {}
  },
  {
   "cell_type": "code",
   "execution_count": 8,
   "metadata": {},
   "outputs": [],
   "source": [
    "import networkx as nx\n",
    "from networkx.algorithms.components.connected import connected_components\n",
    "\n",
    "def to_graph(l):\n",
    "    G = nx.Graph()\n",
    "    for part in l:\n",
    "        G.add_nodes_from(part)\n",
    "        G.add_edges_from(zip(part[:-1], part[1:]))\n",
    "    return G\n",
    "\n",
    "G = to_graph(L)\n",
    "connected_list = [list(i) for i in connected_components(G)]"
   ]
  },
  {
   "source": [
    "## Merging Lists"
   ],
   "cell_type": "markdown",
   "metadata": {}
  },
  {
   "cell_type": "code",
   "execution_count": 51,
   "metadata": {},
   "outputs": [],
   "source": [
    "temp_df = pd.DataFrame({'A':connected_list,\n",
    "'B':connected_list,'GroupID': range(0,len(connected_list))})\n",
    "temp_df = temp_df.explode('A').sort_values('A').reset_index().drop(\"index\", axis=1).rename(columns={\"A\":\"Id\", \"B\":\"trace\"})"
   ]
  },
  {
   "cell_type": "code",
   "execution_count": 53,
   "metadata": {},
   "outputs": [],
   "source": [
    "full_df = temp_df.join(df[\"Contacts\"], how=\"left\", on=\"Id\")\n",
    "full_df[\"contact_count\"] = full_df.groupby('GroupID')['Contacts'].transform(sum)"
   ]
  },
  {
   "cell_type": "code",
   "execution_count": null,
   "metadata": {},
   "outputs": [],
   "source": []
  }
 ]
}