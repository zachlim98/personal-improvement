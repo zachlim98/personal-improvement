{
 "metadata": {
  "language_info": {
   "codemirror_mode": {
    "name": "ipython",
    "version": 3
   },
   "file_extension": ".py",
   "mimetype": "text/x-python",
   "name": "python",
   "nbconvert_exporter": "python",
   "pygments_lexer": "ipython3",
   "version": "3.8.6-final"
  },
  "orig_nbformat": 2,
  "kernelspec": {
   "name": "python3",
   "display_name": "Python 3.8.6 32-bit",
   "metadata": {
    "interpreter": {
     "hash": "a080e381fb8d998a55638006a69e5958108d914a9dc610571a96145ee1400b24"
    }
   }
  }
 },
 "nbformat": 4,
 "nbformat_minor": 2,
 "cells": [
  {
   "cell_type": "code",
   "execution_count": 1,
   "metadata": {},
   "outputs": [],
   "source": [
    "import pandas as pd\n",
    "import numpy as np"
   ]
  },
  {
   "cell_type": "code",
   "execution_count": 2,
   "metadata": {},
   "outputs": [],
   "source": [
    "json_import = pd.read_json(\"contacts.json\")"
   ]
  },
  {
   "cell_type": "code",
   "execution_count": 65,
   "metadata": {},
   "outputs": [],
   "source": [
    "df_test = json_import[1:10000]"
   ]
  },
  {
   "cell_type": "code",
   "execution_count": 135,
   "metadata": {},
   "outputs": [
    {
     "output_type": "execute_result",
     "data": {
      "text/plain": [
       "        Id                     Email         Phone  Contacts  \\\n",
       "1        1                            329442681752         4   \n",
       "2        2                              9125983679         0   \n",
       "3        3        mdllpYmE@gmail.com                       0   \n",
       "4        4                               300364407         2   \n",
       "5        5                               840113148         0   \n",
       "...    ...                       ...           ...       ...   \n",
       "9995  9995  vrSUyhNUQoVHPO@gmail.com                       0   \n",
       "9996  9996            nSqFwZn@qq.com                       4   \n",
       "9997  9997   PjBBLzvNkDLPN@yahoo.com                       3   \n",
       "9998  9998       GTFceRhHIYqJ@qq.com                       3   \n",
       "9999  9999                               807761303         0   \n",
       "\n",
       "                        OrderId  \n",
       "1     vDDJJcxfLtSfkooPhbYnJdxov  \n",
       "2                                \n",
       "3     bHquEnCbbsGLqllwryxPsNOxa  \n",
       "4                                \n",
       "5                                \n",
       "...                         ...  \n",
       "9995  svFpWPLlHXetXPjAqTkLsLVaq  \n",
       "9996  nNvrhaEkuLxVrClyNkXiipCwr  \n",
       "9997                             \n",
       "9998  KwVMMxHFqnoWryyHjUtAYHkGe  \n",
       "9999                             \n",
       "\n",
       "[9999 rows x 5 columns]"
      ],
      "text/html": "<div>\n<style scoped>\n    .dataframe tbody tr th:only-of-type {\n        vertical-align: middle;\n    }\n\n    .dataframe tbody tr th {\n        vertical-align: top;\n    }\n\n    .dataframe thead th {\n        text-align: right;\n    }\n</style>\n<table border=\"1\" class=\"dataframe\">\n  <thead>\n    <tr style=\"text-align: right;\">\n      <th></th>\n      <th>Id</th>\n      <th>Email</th>\n      <th>Phone</th>\n      <th>Contacts</th>\n      <th>OrderId</th>\n    </tr>\n  </thead>\n  <tbody>\n    <tr>\n      <th>1</th>\n      <td>1</td>\n      <td></td>\n      <td>329442681752</td>\n      <td>4</td>\n      <td>vDDJJcxfLtSfkooPhbYnJdxov</td>\n    </tr>\n    <tr>\n      <th>2</th>\n      <td>2</td>\n      <td></td>\n      <td>9125983679</td>\n      <td>0</td>\n      <td></td>\n    </tr>\n    <tr>\n      <th>3</th>\n      <td>3</td>\n      <td>mdllpYmE@gmail.com</td>\n      <td></td>\n      <td>0</td>\n      <td>bHquEnCbbsGLqllwryxPsNOxa</td>\n    </tr>\n    <tr>\n      <th>4</th>\n      <td>4</td>\n      <td></td>\n      <td>300364407</td>\n      <td>2</td>\n      <td></td>\n    </tr>\n    <tr>\n      <th>5</th>\n      <td>5</td>\n      <td></td>\n      <td>840113148</td>\n      <td>0</td>\n      <td></td>\n    </tr>\n    <tr>\n      <th>...</th>\n      <td>...</td>\n      <td>...</td>\n      <td>...</td>\n      <td>...</td>\n      <td>...</td>\n    </tr>\n    <tr>\n      <th>9995</th>\n      <td>9995</td>\n      <td>vrSUyhNUQoVHPO@gmail.com</td>\n      <td></td>\n      <td>0</td>\n      <td>svFpWPLlHXetXPjAqTkLsLVaq</td>\n    </tr>\n    <tr>\n      <th>9996</th>\n      <td>9996</td>\n      <td>nSqFwZn@qq.com</td>\n      <td></td>\n      <td>4</td>\n      <td>nNvrhaEkuLxVrClyNkXiipCwr</td>\n    </tr>\n    <tr>\n      <th>9997</th>\n      <td>9997</td>\n      <td>PjBBLzvNkDLPN@yahoo.com</td>\n      <td></td>\n      <td>3</td>\n      <td></td>\n    </tr>\n    <tr>\n      <th>9998</th>\n      <td>9998</td>\n      <td>GTFceRhHIYqJ@qq.com</td>\n      <td></td>\n      <td>3</td>\n      <td>KwVMMxHFqnoWryyHjUtAYHkGe</td>\n    </tr>\n    <tr>\n      <th>9999</th>\n      <td>9999</td>\n      <td></td>\n      <td>807761303</td>\n      <td>0</td>\n      <td></td>\n    </tr>\n  </tbody>\n</table>\n<p>9999 rows × 5 columns</p>\n</div>"
     },
     "metadata": {},
     "execution_count": 135
    }
   ],
   "source": [
    "df_test"
   ]
  },
  {
   "cell_type": "code",
   "execution_count": 67,
   "metadata": {},
   "outputs": [],
   "source": [
    "df_Email = df_test[[\"Id\", \"Email\", \"Phone\",\"OrderId\"]]"
   ]
  },
  {
   "cell_type": "code",
   "execution_count": 68,
   "metadata": {},
   "outputs": [],
   "source": [
    "merged1 = df_Email.groupby(['Email']).agg(lambda x: tuple(x)).applymap(list).reset_index()"
   ]
  },
  {
   "source": [
    "merged2 = df_Email.groupby(['Phone']).agg(lambda x: tuple(x)).applymap(list).reset_index()"
   ],
   "cell_type": "code",
   "metadata": {},
   "execution_count": 19,
   "outputs": []
  },
  {
   "cell_type": "code",
   "execution_count": 20,
   "metadata": {},
   "outputs": [],
   "source": [
    "merged3 = df_Email.groupby(['OrderId']).agg(lambda x: tuple(x)).applymap(list).reset_index()"
   ]
  },
  {
   "cell_type": "code",
   "execution_count": 69,
   "metadata": {},
   "outputs": [],
   "source": [
    "have_email = merged1[1:-1]"
   ]
  },
  {
   "cell_type": "code",
   "execution_count": 70,
   "metadata": {},
   "outputs": [],
   "source": [
    "email_null = df_test.replace(r'^\\s*$', np.nan, regex=True)"
   ]
  },
  {
   "cell_type": "code",
   "execution_count": 71,
   "metadata": {},
   "outputs": [],
   "source": [
    "email_null = email_null[email_null['Email'].isnull()]"
   ]
  },
  {
   "cell_type": "code",
   "execution_count": 72,
   "metadata": {},
   "outputs": [],
   "source": [
    "email_null = email_null[[\"Email\", \"Id\", \"Phone\", \"OrderId\"]]"
   ]
  },
  {
   "cell_type": "code",
   "execution_count": 73,
   "metadata": {},
   "outputs": [
    {
     "output_type": "execute_result",
     "data": {
      "text/plain": [
       "     Email    Id         Phone                    OrderId\n",
       "1      NaN     1  329442681752  vDDJJcxfLtSfkooPhbYnJdxov\n",
       "2      NaN     2    9125983679                        NaN\n",
       "4      NaN     4     300364407                        NaN\n",
       "5      NaN     5     840113148                        NaN\n",
       "10     NaN    10  918973512631  OHRFAXqbAzyxljoUDaOErwtrg\n",
       "...    ...   ...           ...                        ...\n",
       "9989   NaN  9989  536621787271  tCmETMOpjzdMJNVHYklOIZiGj\n",
       "9990   NaN  9990  478313249754                        NaN\n",
       "9991   NaN  9991   45105742361  FIxYlBwvsnCwyJKovHcvXPJUa\n",
       "9993   NaN  9993  356613317580                        NaN\n",
       "9999   NaN  9999     807761303                        NaN\n",
       "\n",
       "[3077 rows x 4 columns]"
      ],
      "text/html": "<div>\n<style scoped>\n    .dataframe tbody tr th:only-of-type {\n        vertical-align: middle;\n    }\n\n    .dataframe tbody tr th {\n        vertical-align: top;\n    }\n\n    .dataframe thead th {\n        text-align: right;\n    }\n</style>\n<table border=\"1\" class=\"dataframe\">\n  <thead>\n    <tr style=\"text-align: right;\">\n      <th></th>\n      <th>Email</th>\n      <th>Id</th>\n      <th>Phone</th>\n      <th>OrderId</th>\n    </tr>\n  </thead>\n  <tbody>\n    <tr>\n      <th>1</th>\n      <td>NaN</td>\n      <td>1</td>\n      <td>329442681752</td>\n      <td>vDDJJcxfLtSfkooPhbYnJdxov</td>\n    </tr>\n    <tr>\n      <th>2</th>\n      <td>NaN</td>\n      <td>2</td>\n      <td>9125983679</td>\n      <td>NaN</td>\n    </tr>\n    <tr>\n      <th>4</th>\n      <td>NaN</td>\n      <td>4</td>\n      <td>300364407</td>\n      <td>NaN</td>\n    </tr>\n    <tr>\n      <th>5</th>\n      <td>NaN</td>\n      <td>5</td>\n      <td>840113148</td>\n      <td>NaN</td>\n    </tr>\n    <tr>\n      <th>10</th>\n      <td>NaN</td>\n      <td>10</td>\n      <td>918973512631</td>\n      <td>OHRFAXqbAzyxljoUDaOErwtrg</td>\n    </tr>\n    <tr>\n      <th>...</th>\n      <td>...</td>\n      <td>...</td>\n      <td>...</td>\n      <td>...</td>\n    </tr>\n    <tr>\n      <th>9989</th>\n      <td>NaN</td>\n      <td>9989</td>\n      <td>536621787271</td>\n      <td>tCmETMOpjzdMJNVHYklOIZiGj</td>\n    </tr>\n    <tr>\n      <th>9990</th>\n      <td>NaN</td>\n      <td>9990</td>\n      <td>478313249754</td>\n      <td>NaN</td>\n    </tr>\n    <tr>\n      <th>9991</th>\n      <td>NaN</td>\n      <td>9991</td>\n      <td>45105742361</td>\n      <td>FIxYlBwvsnCwyJKovHcvXPJUa</td>\n    </tr>\n    <tr>\n      <th>9993</th>\n      <td>NaN</td>\n      <td>9993</td>\n      <td>356613317580</td>\n      <td>NaN</td>\n    </tr>\n    <tr>\n      <th>9999</th>\n      <td>NaN</td>\n      <td>9999</td>\n      <td>807761303</td>\n      <td>NaN</td>\n    </tr>\n  </tbody>\n</table>\n<p>3077 rows × 4 columns</p>\n</div>"
     },
     "metadata": {},
     "execution_count": 73
    }
   ],
   "source": [
    "email_null"
   ]
  },
  {
   "cell_type": "code",
   "execution_count": 75,
   "metadata": {},
   "outputs": [],
   "source": [
    "have_email = have_email.explode(\"Phone\")"
   ]
  },
  {
   "cell_type": "code",
   "execution_count": 77,
   "metadata": {},
   "outputs": [],
   "source": [
    "merge2 = pd.concat([email_null, have_email], axis=0)"
   ]
  },
  {
   "cell_type": "code",
   "execution_count": 79,
   "metadata": {},
   "outputs": [
    {
     "output_type": "execute_result",
     "data": {
      "text/plain": [
       "                               Email      Id         Phone  \\\n",
       "1                                NaN       1  329442681752   \n",
       "2                                NaN       2    9125983679   \n",
       "4                                NaN       4     300364407   \n",
       "5                                NaN       5     840113148   \n",
       "10                               NaN      10  918973512631   \n",
       "...                              ...     ...           ...   \n",
       "6784  zxpMpYtCParjWasGhs@hotmail.com  [2772]                 \n",
       "6785   zyMTyHGdbPDnTZBTlHx@gmail.com  [3588]                 \n",
       "6786            zyeeyMhS@hotmail.com  [4031]                 \n",
       "6787        zymlsmoKDTza@hotmail.com  [1505]   15162244933   \n",
       "6788           zyqQouxLbow@gmail.com  [1474]                 \n",
       "\n",
       "                          OrderId  \n",
       "1       vDDJJcxfLtSfkooPhbYnJdxov  \n",
       "2                             NaN  \n",
       "4                             NaN  \n",
       "5                             NaN  \n",
       "10      OHRFAXqbAzyxljoUDaOErwtrg  \n",
       "...                           ...  \n",
       "6784  [OrCwnccDrznKNljvpoPebkaxK]  \n",
       "6785                           []  \n",
       "6786  [eGSnLBFJqASPCcZrMJvARbDpW]  \n",
       "6787                           []  \n",
       "6788  [FmmWsBezhHsfPXkElUmFqNOEq]  \n",
       "\n",
       "[9998 rows x 4 columns]"
      ],
      "text/html": "<div>\n<style scoped>\n    .dataframe tbody tr th:only-of-type {\n        vertical-align: middle;\n    }\n\n    .dataframe tbody tr th {\n        vertical-align: top;\n    }\n\n    .dataframe thead th {\n        text-align: right;\n    }\n</style>\n<table border=\"1\" class=\"dataframe\">\n  <thead>\n    <tr style=\"text-align: right;\">\n      <th></th>\n      <th>Email</th>\n      <th>Id</th>\n      <th>Phone</th>\n      <th>OrderId</th>\n    </tr>\n  </thead>\n  <tbody>\n    <tr>\n      <th>1</th>\n      <td>NaN</td>\n      <td>1</td>\n      <td>329442681752</td>\n      <td>vDDJJcxfLtSfkooPhbYnJdxov</td>\n    </tr>\n    <tr>\n      <th>2</th>\n      <td>NaN</td>\n      <td>2</td>\n      <td>9125983679</td>\n      <td>NaN</td>\n    </tr>\n    <tr>\n      <th>4</th>\n      <td>NaN</td>\n      <td>4</td>\n      <td>300364407</td>\n      <td>NaN</td>\n    </tr>\n    <tr>\n      <th>5</th>\n      <td>NaN</td>\n      <td>5</td>\n      <td>840113148</td>\n      <td>NaN</td>\n    </tr>\n    <tr>\n      <th>10</th>\n      <td>NaN</td>\n      <td>10</td>\n      <td>918973512631</td>\n      <td>OHRFAXqbAzyxljoUDaOErwtrg</td>\n    </tr>\n    <tr>\n      <th>...</th>\n      <td>...</td>\n      <td>...</td>\n      <td>...</td>\n      <td>...</td>\n    </tr>\n    <tr>\n      <th>6784</th>\n      <td>zxpMpYtCParjWasGhs@hotmail.com</td>\n      <td>[2772]</td>\n      <td></td>\n      <td>[OrCwnccDrznKNljvpoPebkaxK]</td>\n    </tr>\n    <tr>\n      <th>6785</th>\n      <td>zyMTyHGdbPDnTZBTlHx@gmail.com</td>\n      <td>[3588]</td>\n      <td></td>\n      <td>[]</td>\n    </tr>\n    <tr>\n      <th>6786</th>\n      <td>zyeeyMhS@hotmail.com</td>\n      <td>[4031]</td>\n      <td></td>\n      <td>[eGSnLBFJqASPCcZrMJvARbDpW]</td>\n    </tr>\n    <tr>\n      <th>6787</th>\n      <td>zymlsmoKDTza@hotmail.com</td>\n      <td>[1505]</td>\n      <td>15162244933</td>\n      <td>[]</td>\n    </tr>\n    <tr>\n      <th>6788</th>\n      <td>zyqQouxLbow@gmail.com</td>\n      <td>[1474]</td>\n      <td></td>\n      <td>[FmmWsBezhHsfPXkElUmFqNOEq]</td>\n    </tr>\n  </tbody>\n</table>\n<p>9998 rows × 4 columns</p>\n</div>"
     },
     "metadata": {},
     "execution_count": 79
    }
   ],
   "source": [
    "merge2"
   ]
  },
  {
   "cell_type": "code",
   "execution_count": 80,
   "metadata": {},
   "outputs": [],
   "source": [
    "merge3 = merge2.groupby(['Phone']).agg(lambda x: tuple(x)).applymap(list).reset_index()"
   ]
  },
  {
   "cell_type": "code",
   "execution_count": 93,
   "metadata": {},
   "outputs": [],
   "source": [
    "merge3 = merge3.explode(\"OrderId\").explode(\"OrderId\")"
   ]
  },
  {
   "cell_type": "code",
   "execution_count": 134,
   "metadata": {},
   "outputs": [],
   "source": [
    "merge3.to_csv(\"find.csv\")"
   ]
  },
  {
   "cell_type": "code",
   "execution_count": 84,
   "metadata": {},
   "outputs": [],
   "source": [
    "phone_null = df_test.replace(r'^\\s*$', np.nan, regex=True)[df_test.replace(r'^\\s*$', np.nan, regex=True)['Phone'].isnull()]"
   ]
  },
  {
   "cell_type": "code",
   "execution_count": 85,
   "metadata": {},
   "outputs": [
    {
     "output_type": "execute_result",
     "data": {
      "text/plain": [
       "        Id                        Email Phone  Contacts  \\\n",
       "3        3           mdllpYmE@gmail.com   NaN         0   \n",
       "6        6     hESiBgYTxMnj@hotmail.com   NaN         4   \n",
       "7        7     hqyunTiaXfIjhO@yahoo.com   NaN         1   \n",
       "9        9       osIIQgAiZX@hotmail.com   NaN         0   \n",
       "11      11               QRamvop@qq.com   NaN         0   \n",
       "...    ...                          ...   ...       ...   \n",
       "9994  9994  aKDQFSTyrxggGeA@hotmail.com   NaN         2   \n",
       "9995  9995     vrSUyhNUQoVHPO@gmail.com   NaN         0   \n",
       "9996  9996               nSqFwZn@qq.com   NaN         4   \n",
       "9997  9997      PjBBLzvNkDLPN@yahoo.com   NaN         3   \n",
       "9998  9998          GTFceRhHIYqJ@qq.com   NaN         3   \n",
       "\n",
       "                        OrderId  \n",
       "3     bHquEnCbbsGLqllwryxPsNOxa  \n",
       "6                           NaN  \n",
       "7     vxjYZtMUvNhtEBDruzQfjpsmX  \n",
       "9     IqewrMXVTJqSsVklWFfOpdRNI  \n",
       "11                          NaN  \n",
       "...                         ...  \n",
       "9994                        NaN  \n",
       "9995  svFpWPLlHXetXPjAqTkLsLVaq  \n",
       "9996  nNvrhaEkuLxVrClyNkXiipCwr  \n",
       "9997                        NaN  \n",
       "9998  KwVMMxHFqnoWryyHjUtAYHkGe  \n",
       "\n",
       "[5100 rows x 5 columns]"
      ],
      "text/html": "<div>\n<style scoped>\n    .dataframe tbody tr th:only-of-type {\n        vertical-align: middle;\n    }\n\n    .dataframe tbody tr th {\n        vertical-align: top;\n    }\n\n    .dataframe thead th {\n        text-align: right;\n    }\n</style>\n<table border=\"1\" class=\"dataframe\">\n  <thead>\n    <tr style=\"text-align: right;\">\n      <th></th>\n      <th>Id</th>\n      <th>Email</th>\n      <th>Phone</th>\n      <th>Contacts</th>\n      <th>OrderId</th>\n    </tr>\n  </thead>\n  <tbody>\n    <tr>\n      <th>3</th>\n      <td>3</td>\n      <td>mdllpYmE@gmail.com</td>\n      <td>NaN</td>\n      <td>0</td>\n      <td>bHquEnCbbsGLqllwryxPsNOxa</td>\n    </tr>\n    <tr>\n      <th>6</th>\n      <td>6</td>\n      <td>hESiBgYTxMnj@hotmail.com</td>\n      <td>NaN</td>\n      <td>4</td>\n      <td>NaN</td>\n    </tr>\n    <tr>\n      <th>7</th>\n      <td>7</td>\n      <td>hqyunTiaXfIjhO@yahoo.com</td>\n      <td>NaN</td>\n      <td>1</td>\n      <td>vxjYZtMUvNhtEBDruzQfjpsmX</td>\n    </tr>\n    <tr>\n      <th>9</th>\n      <td>9</td>\n      <td>osIIQgAiZX@hotmail.com</td>\n      <td>NaN</td>\n      <td>0</td>\n      <td>IqewrMXVTJqSsVklWFfOpdRNI</td>\n    </tr>\n    <tr>\n      <th>11</th>\n      <td>11</td>\n      <td>QRamvop@qq.com</td>\n      <td>NaN</td>\n      <td>0</td>\n      <td>NaN</td>\n    </tr>\n    <tr>\n      <th>...</th>\n      <td>...</td>\n      <td>...</td>\n      <td>...</td>\n      <td>...</td>\n      <td>...</td>\n    </tr>\n    <tr>\n      <th>9994</th>\n      <td>9994</td>\n      <td>aKDQFSTyrxggGeA@hotmail.com</td>\n      <td>NaN</td>\n      <td>2</td>\n      <td>NaN</td>\n    </tr>\n    <tr>\n      <th>9995</th>\n      <td>9995</td>\n      <td>vrSUyhNUQoVHPO@gmail.com</td>\n      <td>NaN</td>\n      <td>0</td>\n      <td>svFpWPLlHXetXPjAqTkLsLVaq</td>\n    </tr>\n    <tr>\n      <th>9996</th>\n      <td>9996</td>\n      <td>nSqFwZn@qq.com</td>\n      <td>NaN</td>\n      <td>4</td>\n      <td>nNvrhaEkuLxVrClyNkXiipCwr</td>\n    </tr>\n    <tr>\n      <th>9997</th>\n      <td>9997</td>\n      <td>PjBBLzvNkDLPN@yahoo.com</td>\n      <td>NaN</td>\n      <td>3</td>\n      <td>NaN</td>\n    </tr>\n    <tr>\n      <th>9998</th>\n      <td>9998</td>\n      <td>GTFceRhHIYqJ@qq.com</td>\n      <td>NaN</td>\n      <td>3</td>\n      <td>KwVMMxHFqnoWryyHjUtAYHkGe</td>\n    </tr>\n  </tbody>\n</table>\n<p>5100 rows × 5 columns</p>\n</div>"
     },
     "metadata": {},
     "execution_count": 85
    }
   ],
   "source": [
    "phone_null"
   ]
  },
  {
   "cell_type": "code",
   "execution_count": 95,
   "metadata": {},
   "outputs": [],
   "source": [
    "merge4 = pd.concat([phone_null, merge3], axis=0)"
   ]
  },
  {
   "cell_type": "code",
   "execution_count": 104,
   "metadata": {},
   "outputs": [],
   "source": [
    "merge5 = merge4.groupby(['OrderId']).agg(lambda x: tuple(x)).applymap(list).reset_index()"
   ]
  },
  {
   "cell_type": "code",
   "execution_count": 126,
   "metadata": {},
   "outputs": [],
   "source": [
    "listed = merge5.iloc[0][\"Id\"]"
   ]
  },
  {
   "cell_type": "code",
   "execution_count": 131,
   "metadata": {},
   "outputs": [],
   "source": [
    "listed_df = pd.DataFrame(listed, columns=[\"Ids\", \"Ids2\", \"Ids3\"])"
   ]
  },
  {
   "cell_type": "code",
   "execution_count": 133,
   "metadata": {},
   "outputs": [],
   "source": [
    "listed_df.to_csv(\"ids.csv\")"
   ]
  },
  {
   "cell_type": "code",
   "execution_count": 49,
   "metadata": {},
   "outputs": [],
   "source": [
    "merged3.to_csv(\"try3.csv\")"
   ]
  },
  {
   "cell_type": "code",
   "execution_count": 68,
   "metadata": {},
   "outputs": [],
   "source": [
    "merged5 = merged4.replace(r'^\\s*$', np.nan, regex=True).groupby(['OrderId']).agg(lambda x: tuple(x)).applymap(list).reset_index()"
   ]
  },
  {
   "cell_type": "code",
   "execution_count": 69,
   "metadata": {},
   "outputs": [],
   "source": [
    "merged5.to_csv(\"happy.csv\")"
   ]
  },
  {
   "cell_type": "code",
   "execution_count": 253,
   "metadata": {},
   "outputs": [
    {
     "output_type": "execute_result",
     "data": {
      "text/plain": [
       "    Id  Email Phone OrderId\n",
       "0    A  gmail   376        \n",
       "1    B  gmail           ION\n",
       "2    C          376     ION\n",
       "3    D  gmail              \n",
       "4    E          376        \n",
       "5    F          NaN     ION\n",
       "6   A2  yahoo              \n",
       "7   A3  yahoo   972        \n",
       "8   A4          972        \n",
       "9   G2                  POP\n",
       "10  G3                  POP\n",
       "11  P1          788        \n",
       "12  P2          788        "
      ],
      "text/html": "<div>\n<style scoped>\n    .dataframe tbody tr th:only-of-type {\n        vertical-align: middle;\n    }\n\n    .dataframe tbody tr th {\n        vertical-align: top;\n    }\n\n    .dataframe thead th {\n        text-align: right;\n    }\n</style>\n<table border=\"1\" class=\"dataframe\">\n  <thead>\n    <tr style=\"text-align: right;\">\n      <th></th>\n      <th>Id</th>\n      <th>Email</th>\n      <th>Phone</th>\n      <th>OrderId</th>\n    </tr>\n  </thead>\n  <tbody>\n    <tr>\n      <th>0</th>\n      <td>A</td>\n      <td>gmail</td>\n      <td>376</td>\n      <td></td>\n    </tr>\n    <tr>\n      <th>1</th>\n      <td>B</td>\n      <td>gmail</td>\n      <td></td>\n      <td>ION</td>\n    </tr>\n    <tr>\n      <th>2</th>\n      <td>C</td>\n      <td></td>\n      <td>376</td>\n      <td>ION</td>\n    </tr>\n    <tr>\n      <th>3</th>\n      <td>D</td>\n      <td>gmail</td>\n      <td></td>\n      <td></td>\n    </tr>\n    <tr>\n      <th>4</th>\n      <td>E</td>\n      <td></td>\n      <td>376</td>\n      <td></td>\n    </tr>\n    <tr>\n      <th>5</th>\n      <td>F</td>\n      <td></td>\n      <td>NaN</td>\n      <td>ION</td>\n    </tr>\n    <tr>\n      <th>6</th>\n      <td>A2</td>\n      <td>yahoo</td>\n      <td></td>\n      <td></td>\n    </tr>\n    <tr>\n      <th>7</th>\n      <td>A3</td>\n      <td>yahoo</td>\n      <td>972</td>\n      <td></td>\n    </tr>\n    <tr>\n      <th>8</th>\n      <td>A4</td>\n      <td></td>\n      <td>972</td>\n      <td></td>\n    </tr>\n    <tr>\n      <th>9</th>\n      <td>G2</td>\n      <td></td>\n      <td></td>\n      <td>POP</td>\n    </tr>\n    <tr>\n      <th>10</th>\n      <td>G3</td>\n      <td></td>\n      <td></td>\n      <td>POP</td>\n    </tr>\n    <tr>\n      <th>11</th>\n      <td>P1</td>\n      <td></td>\n      <td>788</td>\n      <td></td>\n    </tr>\n    <tr>\n      <th>12</th>\n      <td>P2</td>\n      <td></td>\n      <td>788</td>\n      <td></td>\n    </tr>\n  </tbody>\n</table>\n</div>"
     },
     "metadata": {},
     "execution_count": 253
    }
   ],
   "source": [
    "test"
   ]
  },
  {
   "cell_type": "code",
   "execution_count": 293,
   "metadata": {},
   "outputs": [],
   "source": [
    "test = pd.read_csv(\"Book1.csv\")"
   ]
  },
  {
   "cell_type": "code",
   "execution_count": 298,
   "metadata": {},
   "outputs": [],
   "source": [
    "test1 = test.groupby(['Email']).agg(lambda x: tuple(x)).reset_index()"
   ]
  },
  {
   "cell_type": "code",
   "execution_count": 302,
   "metadata": {},
   "outputs": [
    {
     "output_type": "execute_result",
     "data": {
      "text/plain": [
       "0    (376, 376, nan, 972,  ,  , 788, 788)\n",
       "1                             (376,  ,  )\n",
       "2                                ( , 972)\n",
       "Name: Phone, dtype: object"
      ]
     },
     "metadata": {},
     "execution_count": 302
    }
   ],
   "source": [
    "test1.Phone"
   ]
  },
  {
   "cell_type": "code",
   "execution_count": 240,
   "metadata": {},
   "outputs": [],
   "source": [
    "test1 = test1.iloc[1:len(test1)].explode(\"Phone\")"
   ]
  },
  {
   "cell_type": "code",
   "execution_count": 254,
   "metadata": {},
   "outputs": [],
   "source": [
    "null_email = test[test['Email'].eq(\" \")]"
   ]
  },
  {
   "cell_type": "code",
   "execution_count": 255,
   "metadata": {},
   "outputs": [
    {
     "output_type": "execute_result",
     "data": {
      "text/plain": [
       "    Id Email Phone OrderId\n",
       "2    C         376     ION\n",
       "4    E         376        \n",
       "5    F         NaN     ION\n",
       "8   A4         972        \n",
       "9   G2                 POP\n",
       "10  G3                 POP\n",
       "11  P1         788        \n",
       "12  P2         788        "
      ],
      "text/html": "<div>\n<style scoped>\n    .dataframe tbody tr th:only-of-type {\n        vertical-align: middle;\n    }\n\n    .dataframe tbody tr th {\n        vertical-align: top;\n    }\n\n    .dataframe thead th {\n        text-align: right;\n    }\n</style>\n<table border=\"1\" class=\"dataframe\">\n  <thead>\n    <tr style=\"text-align: right;\">\n      <th></th>\n      <th>Id</th>\n      <th>Email</th>\n      <th>Phone</th>\n      <th>OrderId</th>\n    </tr>\n  </thead>\n  <tbody>\n    <tr>\n      <th>2</th>\n      <td>C</td>\n      <td></td>\n      <td>376</td>\n      <td>ION</td>\n    </tr>\n    <tr>\n      <th>4</th>\n      <td>E</td>\n      <td></td>\n      <td>376</td>\n      <td></td>\n    </tr>\n    <tr>\n      <th>5</th>\n      <td>F</td>\n      <td></td>\n      <td>NaN</td>\n      <td>ION</td>\n    </tr>\n    <tr>\n      <th>8</th>\n      <td>A4</td>\n      <td></td>\n      <td>972</td>\n      <td></td>\n    </tr>\n    <tr>\n      <th>9</th>\n      <td>G2</td>\n      <td></td>\n      <td></td>\n      <td>POP</td>\n    </tr>\n    <tr>\n      <th>10</th>\n      <td>G3</td>\n      <td></td>\n      <td></td>\n      <td>POP</td>\n    </tr>\n    <tr>\n      <th>11</th>\n      <td>P1</td>\n      <td></td>\n      <td>788</td>\n      <td></td>\n    </tr>\n    <tr>\n      <th>12</th>\n      <td>P2</td>\n      <td></td>\n      <td>788</td>\n      <td></td>\n    </tr>\n  </tbody>\n</table>\n</div>"
     },
     "metadata": {},
     "execution_count": 255
    }
   ],
   "source": [
    "null_email"
   ]
  },
  {
   "cell_type": "code",
   "execution_count": 256,
   "metadata": {},
   "outputs": [],
   "source": [
    "test2 = pd.concat([null_email, test1], axis=0)"
   ]
  },
  {
   "cell_type": "code",
   "execution_count": 257,
   "metadata": {},
   "outputs": [
    {
     "output_type": "execute_result",
     "data": {
      "text/plain": [
       "           Id  Email Phone      OrderId\n",
       "2           C          376          ION\n",
       "4           E          376             \n",
       "5           F          NaN          ION\n",
       "8          A4          972             \n",
       "9          G2                       POP\n",
       "10         G3                       POP\n",
       "11         P1          788             \n",
       "12         P2          788             \n",
       "1   [A, B, D]  gmail   376  [ , ION,  ]\n",
       "1   [A, B, D]  gmail        [ , ION,  ]\n",
       "1   [A, B, D]  gmail        [ , ION,  ]\n",
       "2    [A2, A3]  yahoo             [ ,  ]\n",
       "2    [A2, A3]  yahoo   972       [ ,  ]"
      ],
      "text/html": "<div>\n<style scoped>\n    .dataframe tbody tr th:only-of-type {\n        vertical-align: middle;\n    }\n\n    .dataframe tbody tr th {\n        vertical-align: top;\n    }\n\n    .dataframe thead th {\n        text-align: right;\n    }\n</style>\n<table border=\"1\" class=\"dataframe\">\n  <thead>\n    <tr style=\"text-align: right;\">\n      <th></th>\n      <th>Id</th>\n      <th>Email</th>\n      <th>Phone</th>\n      <th>OrderId</th>\n    </tr>\n  </thead>\n  <tbody>\n    <tr>\n      <th>2</th>\n      <td>C</td>\n      <td></td>\n      <td>376</td>\n      <td>ION</td>\n    </tr>\n    <tr>\n      <th>4</th>\n      <td>E</td>\n      <td></td>\n      <td>376</td>\n      <td></td>\n    </tr>\n    <tr>\n      <th>5</th>\n      <td>F</td>\n      <td></td>\n      <td>NaN</td>\n      <td>ION</td>\n    </tr>\n    <tr>\n      <th>8</th>\n      <td>A4</td>\n      <td></td>\n      <td>972</td>\n      <td></td>\n    </tr>\n    <tr>\n      <th>9</th>\n      <td>G2</td>\n      <td></td>\n      <td></td>\n      <td>POP</td>\n    </tr>\n    <tr>\n      <th>10</th>\n      <td>G3</td>\n      <td></td>\n      <td></td>\n      <td>POP</td>\n    </tr>\n    <tr>\n      <th>11</th>\n      <td>P1</td>\n      <td></td>\n      <td>788</td>\n      <td></td>\n    </tr>\n    <tr>\n      <th>12</th>\n      <td>P2</td>\n      <td></td>\n      <td>788</td>\n      <td></td>\n    </tr>\n    <tr>\n      <th>1</th>\n      <td>[A, B, D]</td>\n      <td>gmail</td>\n      <td>376</td>\n      <td>[ , ION,  ]</td>\n    </tr>\n    <tr>\n      <th>1</th>\n      <td>[A, B, D]</td>\n      <td>gmail</td>\n      <td></td>\n      <td>[ , ION,  ]</td>\n    </tr>\n    <tr>\n      <th>1</th>\n      <td>[A, B, D]</td>\n      <td>gmail</td>\n      <td></td>\n      <td>[ , ION,  ]</td>\n    </tr>\n    <tr>\n      <th>2</th>\n      <td>[A2, A3]</td>\n      <td>yahoo</td>\n      <td></td>\n      <td>[ ,  ]</td>\n    </tr>\n    <tr>\n      <th>2</th>\n      <td>[A2, A3]</td>\n      <td>yahoo</td>\n      <td>972</td>\n      <td>[ ,  ]</td>\n    </tr>\n  </tbody>\n</table>\n</div>"
     },
     "metadata": {},
     "execution_count": 257
    }
   ],
   "source": [
    "test2"
   ]
  },
  {
   "cell_type": "code",
   "execution_count": 261,
   "metadata": {},
   "outputs": [],
   "source": [
    "test3 = test2.groupby(['Phone']).agg(lambda x: tuple(x)).applymap(list).reset_index()"
   ]
  },
  {
   "cell_type": "code",
   "execution_count": 290,
   "metadata": {},
   "outputs": [
    {
     "output_type": "execute_result",
     "data": {
      "text/plain": [
       "  Phone                                        Id  \\\n",
       "0        [G2, G3, [A, B, D], [A, B, D], [A2, A3]]   \n",
       "1   376                         [C, E, [A, B, D]]   \n",
       "2   788                                  [P1, P2]   \n",
       "3   972                            [A4, [A2, A3]]   \n",
       "\n",
       "                         Email                                       OrderId  \n",
       "0  [ ,  , gmail, gmail, yahoo]  [POP, POP, [ , ION,  ], [ , ION,  ], [ ,  ]]  \n",
       "1                [ ,  , gmail]                         [ION,  , [ , ION,  ]]  \n",
       "2                       [ ,  ]                                        [ ,  ]  \n",
       "3                   [ , yahoo]                                   [ , [ ,  ]]  "
      ],
      "text/html": "<div>\n<style scoped>\n    .dataframe tbody tr th:only-of-type {\n        vertical-align: middle;\n    }\n\n    .dataframe tbody tr th {\n        vertical-align: top;\n    }\n\n    .dataframe thead th {\n        text-align: right;\n    }\n</style>\n<table border=\"1\" class=\"dataframe\">\n  <thead>\n    <tr style=\"text-align: right;\">\n      <th></th>\n      <th>Phone</th>\n      <th>Id</th>\n      <th>Email</th>\n      <th>OrderId</th>\n    </tr>\n  </thead>\n  <tbody>\n    <tr>\n      <th>0</th>\n      <td></td>\n      <td>[G2, G3, [A, B, D], [A, B, D], [A2, A3]]</td>\n      <td>[ ,  , gmail, gmail, yahoo]</td>\n      <td>[POP, POP, [ , ION,  ], [ , ION,  ], [ ,  ]]</td>\n    </tr>\n    <tr>\n      <th>1</th>\n      <td>376</td>\n      <td>[C, E, [A, B, D]]</td>\n      <td>[ ,  , gmail]</td>\n      <td>[ION,  , [ , ION,  ]]</td>\n    </tr>\n    <tr>\n      <th>2</th>\n      <td>788</td>\n      <td>[P1, P2]</td>\n      <td>[ ,  ]</td>\n      <td>[ ,  ]</td>\n    </tr>\n    <tr>\n      <th>3</th>\n      <td>972</td>\n      <td>[A4, [A2, A3]]</td>\n      <td>[ , yahoo]</td>\n      <td>[ , [ ,  ]]</td>\n    </tr>\n  </tbody>\n</table>\n</div>"
     },
     "metadata": {},
     "execution_count": 290
    }
   ],
   "source": [
    "test3"
   ]
  },
  {
   "cell_type": "code",
   "execution_count": 291,
   "metadata": {},
   "outputs": [],
   "source": [
    "test4 = test3.iloc[1:len(test3)].explode(\"OrderId\").explode(\"OrderId\")"
   ]
  },
  {
   "cell_type": "code",
   "execution_count": 292,
   "metadata": {},
   "outputs": [
    {
     "output_type": "execute_result",
     "data": {
      "text/plain": [
       "  Phone                 Id          Email OrderId\n",
       "1   376  [C, E, [A, B, D]]  [ ,  , gmail]     ION\n",
       "1   376  [C, E, [A, B, D]]  [ ,  , gmail]        \n",
       "1   376  [C, E, [A, B, D]]  [ ,  , gmail]        \n",
       "1   376  [C, E, [A, B, D]]  [ ,  , gmail]     ION\n",
       "1   376  [C, E, [A, B, D]]  [ ,  , gmail]        \n",
       "2   788           [P1, P2]         [ ,  ]        \n",
       "2   788           [P1, P2]         [ ,  ]        \n",
       "3   972     [A4, [A2, A3]]     [ , yahoo]        \n",
       "3   972     [A4, [A2, A3]]     [ , yahoo]        \n",
       "3   972     [A4, [A2, A3]]     [ , yahoo]        "
      ],
      "text/html": "<div>\n<style scoped>\n    .dataframe tbody tr th:only-of-type {\n        vertical-align: middle;\n    }\n\n    .dataframe tbody tr th {\n        vertical-align: top;\n    }\n\n    .dataframe thead th {\n        text-align: right;\n    }\n</style>\n<table border=\"1\" class=\"dataframe\">\n  <thead>\n    <tr style=\"text-align: right;\">\n      <th></th>\n      <th>Phone</th>\n      <th>Id</th>\n      <th>Email</th>\n      <th>OrderId</th>\n    </tr>\n  </thead>\n  <tbody>\n    <tr>\n      <th>1</th>\n      <td>376</td>\n      <td>[C, E, [A, B, D]]</td>\n      <td>[ ,  , gmail]</td>\n      <td>ION</td>\n    </tr>\n    <tr>\n      <th>1</th>\n      <td>376</td>\n      <td>[C, E, [A, B, D]]</td>\n      <td>[ ,  , gmail]</td>\n      <td></td>\n    </tr>\n    <tr>\n      <th>1</th>\n      <td>376</td>\n      <td>[C, E, [A, B, D]]</td>\n      <td>[ ,  , gmail]</td>\n      <td></td>\n    </tr>\n    <tr>\n      <th>1</th>\n      <td>376</td>\n      <td>[C, E, [A, B, D]]</td>\n      <td>[ ,  , gmail]</td>\n      <td>ION</td>\n    </tr>\n    <tr>\n      <th>1</th>\n      <td>376</td>\n      <td>[C, E, [A, B, D]]</td>\n      <td>[ ,  , gmail]</td>\n      <td></td>\n    </tr>\n    <tr>\n      <th>2</th>\n      <td>788</td>\n      <td>[P1, P2]</td>\n      <td>[ ,  ]</td>\n      <td></td>\n    </tr>\n    <tr>\n      <th>2</th>\n      <td>788</td>\n      <td>[P1, P2]</td>\n      <td>[ ,  ]</td>\n      <td></td>\n    </tr>\n    <tr>\n      <th>3</th>\n      <td>972</td>\n      <td>[A4, [A2, A3]]</td>\n      <td>[ , yahoo]</td>\n      <td></td>\n    </tr>\n    <tr>\n      <th>3</th>\n      <td>972</td>\n      <td>[A4, [A2, A3]]</td>\n      <td>[ , yahoo]</td>\n      <td></td>\n    </tr>\n    <tr>\n      <th>3</th>\n      <td>972</td>\n      <td>[A4, [A2, A3]]</td>\n      <td>[ , yahoo]</td>\n      <td></td>\n    </tr>\n  </tbody>\n</table>\n</div>"
     },
     "metadata": {},
     "execution_count": 292
    }
   ],
   "source": [
    "test4"
   ]
  },
  {
   "cell_type": "code",
   "execution_count": 275,
   "metadata": {},
   "outputs": [],
   "source": [
    "null_phone = test[test['Phone'].eq(\" \")]"
   ]
  },
  {
   "cell_type": "code",
   "execution_count": 276,
   "metadata": {},
   "outputs": [],
   "source": [
    "test5 = pd.concat([test4, null_phone], axis=0)"
   ]
  },
  {
   "cell_type": "code",
   "execution_count": 287,
   "metadata": {},
   "outputs": [
    {
     "output_type": "error",
     "ename": "TypeError",
     "evalue": "Must provide 'func' or tuples of '(column, aggfunc).",
     "traceback": [
      "\u001b[1;31m---------------------------------------------------------------------------\u001b[0m",
      "\u001b[1;31mTypeError\u001b[0m                                 Traceback (most recent call last)",
      "\u001b[1;32m<ipython-input-287-cf9e73b547cc>\u001b[0m in \u001b[0;36m<module>\u001b[1;34m\u001b[0m\n\u001b[1;32m----> 1\u001b[1;33m \u001b[0mtest6\u001b[0m \u001b[1;33m=\u001b[0m \u001b[0mtest5\u001b[0m\u001b[1;33m.\u001b[0m\u001b[0mgroupby\u001b[0m\u001b[1;33m(\u001b[0m\u001b[1;33m[\u001b[0m\u001b[1;34m'OrderId'\u001b[0m\u001b[1;33m]\u001b[0m\u001b[1;33m)\u001b[0m\u001b[1;33m.\u001b[0m\u001b[0magg\u001b[0m\u001b[1;33m(\u001b[0m\u001b[1;33m)\u001b[0m\u001b[1;33m\u001b[0m\u001b[1;33m\u001b[0m\u001b[0m\n\u001b[0m",
      "\u001b[1;32mX:\\Programs\\lib\\site-packages\\pandas\\core\\groupby\\generic.py\u001b[0m in \u001b[0;36maggregate\u001b[1;34m(self, func, engine, engine_kwargs, *args, **kwargs)\u001b[0m\n\u001b[0;32m    940\u001b[0m     \u001b[1;32mdef\u001b[0m \u001b[0maggregate\u001b[0m\u001b[1;33m(\u001b[0m\u001b[0mself\u001b[0m\u001b[1;33m,\u001b[0m \u001b[0mfunc\u001b[0m\u001b[1;33m=\u001b[0m\u001b[1;32mNone\u001b[0m\u001b[1;33m,\u001b[0m \u001b[1;33m*\u001b[0m\u001b[0margs\u001b[0m\u001b[1;33m,\u001b[0m \u001b[0mengine\u001b[0m\u001b[1;33m=\u001b[0m\u001b[1;32mNone\u001b[0m\u001b[1;33m,\u001b[0m \u001b[0mengine_kwargs\u001b[0m\u001b[1;33m=\u001b[0m\u001b[1;32mNone\u001b[0m\u001b[1;33m,\u001b[0m \u001b[1;33m**\u001b[0m\u001b[0mkwargs\u001b[0m\u001b[1;33m)\u001b[0m\u001b[1;33m:\u001b[0m\u001b[1;33m\u001b[0m\u001b[1;33m\u001b[0m\u001b[0m\n\u001b[0;32m    941\u001b[0m \u001b[1;33m\u001b[0m\u001b[0m\n\u001b[1;32m--> 942\u001b[1;33m         \u001b[0mrelabeling\u001b[0m\u001b[1;33m,\u001b[0m \u001b[0mfunc\u001b[0m\u001b[1;33m,\u001b[0m \u001b[0mcolumns\u001b[0m\u001b[1;33m,\u001b[0m \u001b[0morder\u001b[0m \u001b[1;33m=\u001b[0m \u001b[0mreconstruct_func\u001b[0m\u001b[1;33m(\u001b[0m\u001b[0mfunc\u001b[0m\u001b[1;33m,\u001b[0m \u001b[1;33m**\u001b[0m\u001b[0mkwargs\u001b[0m\u001b[1;33m)\u001b[0m\u001b[1;33m\u001b[0m\u001b[1;33m\u001b[0m\u001b[0m\n\u001b[0m\u001b[0;32m    943\u001b[0m \u001b[1;33m\u001b[0m\u001b[0m\n\u001b[0;32m    944\u001b[0m         \u001b[1;32mif\u001b[0m \u001b[0mmaybe_use_numba\u001b[0m\u001b[1;33m(\u001b[0m\u001b[0mengine\u001b[0m\u001b[1;33m)\u001b[0m\u001b[1;33m:\u001b[0m\u001b[1;33m\u001b[0m\u001b[1;33m\u001b[0m\u001b[0m\n",
      "\u001b[1;32mX:\\Programs\\lib\\site-packages\\pandas\\core\\aggregation.py\u001b[0m in \u001b[0;36mreconstruct_func\u001b[1;34m(func, **kwargs)\u001b[0m\n\u001b[0;32m     84\u001b[0m         \u001b[1;32melif\u001b[0m \u001b[0mfunc\u001b[0m \u001b[1;32mis\u001b[0m \u001b[1;32mNone\u001b[0m\u001b[1;33m:\u001b[0m\u001b[1;33m\u001b[0m\u001b[1;33m\u001b[0m\u001b[0m\n\u001b[0;32m     85\u001b[0m             \u001b[1;31m# nicer error message\u001b[0m\u001b[1;33m\u001b[0m\u001b[1;33m\u001b[0m\u001b[1;33m\u001b[0m\u001b[0m\n\u001b[1;32m---> 86\u001b[1;33m             \u001b[1;32mraise\u001b[0m \u001b[0mTypeError\u001b[0m\u001b[1;33m(\u001b[0m\u001b[1;34m\"Must provide 'func' or tuples of '(column, aggfunc).\"\u001b[0m\u001b[1;33m)\u001b[0m\u001b[1;33m\u001b[0m\u001b[1;33m\u001b[0m\u001b[0m\n\u001b[0m\u001b[0;32m     87\u001b[0m \u001b[1;33m\u001b[0m\u001b[0m\n\u001b[0;32m     88\u001b[0m     \u001b[1;32mif\u001b[0m \u001b[0mrelabeling\u001b[0m\u001b[1;33m:\u001b[0m\u001b[1;33m\u001b[0m\u001b[1;33m\u001b[0m\u001b[0m\n",
      "\u001b[1;31mTypeError\u001b[0m: Must provide 'func' or tuples of '(column, aggfunc)."
     ]
    }
   ],
   "source": [
    "test6 = test5.groupby(['OrderId']).agg('')"
   ]
  },
  {
   "cell_type": "code",
   "execution_count": 288,
   "metadata": {},
   "outputs": [
    {
     "output_type": "execute_result",
     "data": {
      "text/plain": [
       "   Phone                 Id          Email OrderId\n",
       "1    376  [C, E, [A, B, D]]  [ ,  , gmail]     ION\n",
       "1    376  [C, E, [A, B, D]]  [ ,  , gmail]        \n",
       "1    376  [C, E, [A, B, D]]  [ ,  , gmail]        \n",
       "1    376  [C, E, [A, B, D]]  [ ,  , gmail]     ION\n",
       "1    376  [C, E, [A, B, D]]  [ ,  , gmail]        \n",
       "2    788           [P1, P2]         [ ,  ]        \n",
       "2    788           [P1, P2]         [ ,  ]        \n",
       "3    972     [A4, [A2, A3]]     [ , yahoo]        \n",
       "3    972     [A4, [A2, A3]]     [ , yahoo]        \n",
       "3    972     [A4, [A2, A3]]     [ , yahoo]        \n",
       "1                         B          gmail     ION\n",
       "3                         D          gmail        \n",
       "6                        A2          yahoo        \n",
       "9                        G2                    POP\n",
       "10                       G3                    POP"
      ],
      "text/html": "<div>\n<style scoped>\n    .dataframe tbody tr th:only-of-type {\n        vertical-align: middle;\n    }\n\n    .dataframe tbody tr th {\n        vertical-align: top;\n    }\n\n    .dataframe thead th {\n        text-align: right;\n    }\n</style>\n<table border=\"1\" class=\"dataframe\">\n  <thead>\n    <tr style=\"text-align: right;\">\n      <th></th>\n      <th>Phone</th>\n      <th>Id</th>\n      <th>Email</th>\n      <th>OrderId</th>\n    </tr>\n  </thead>\n  <tbody>\n    <tr>\n      <th>1</th>\n      <td>376</td>\n      <td>[C, E, [A, B, D]]</td>\n      <td>[ ,  , gmail]</td>\n      <td>ION</td>\n    </tr>\n    <tr>\n      <th>1</th>\n      <td>376</td>\n      <td>[C, E, [A, B, D]]</td>\n      <td>[ ,  , gmail]</td>\n      <td></td>\n    </tr>\n    <tr>\n      <th>1</th>\n      <td>376</td>\n      <td>[C, E, [A, B, D]]</td>\n      <td>[ ,  , gmail]</td>\n      <td></td>\n    </tr>\n    <tr>\n      <th>1</th>\n      <td>376</td>\n      <td>[C, E, [A, B, D]]</td>\n      <td>[ ,  , gmail]</td>\n      <td>ION</td>\n    </tr>\n    <tr>\n      <th>1</th>\n      <td>376</td>\n      <td>[C, E, [A, B, D]]</td>\n      <td>[ ,  , gmail]</td>\n      <td></td>\n    </tr>\n    <tr>\n      <th>2</th>\n      <td>788</td>\n      <td>[P1, P2]</td>\n      <td>[ ,  ]</td>\n      <td></td>\n    </tr>\n    <tr>\n      <th>2</th>\n      <td>788</td>\n      <td>[P1, P2]</td>\n      <td>[ ,  ]</td>\n      <td></td>\n    </tr>\n    <tr>\n      <th>3</th>\n      <td>972</td>\n      <td>[A4, [A2, A3]]</td>\n      <td>[ , yahoo]</td>\n      <td></td>\n    </tr>\n    <tr>\n      <th>3</th>\n      <td>972</td>\n      <td>[A4, [A2, A3]]</td>\n      <td>[ , yahoo]</td>\n      <td></td>\n    </tr>\n    <tr>\n      <th>3</th>\n      <td>972</td>\n      <td>[A4, [A2, A3]]</td>\n      <td>[ , yahoo]</td>\n      <td></td>\n    </tr>\n    <tr>\n      <th>1</th>\n      <td></td>\n      <td>B</td>\n      <td>gmail</td>\n      <td>ION</td>\n    </tr>\n    <tr>\n      <th>3</th>\n      <td></td>\n      <td>D</td>\n      <td>gmail</td>\n      <td></td>\n    </tr>\n    <tr>\n      <th>6</th>\n      <td></td>\n      <td>A2</td>\n      <td>yahoo</td>\n      <td></td>\n    </tr>\n    <tr>\n      <th>9</th>\n      <td></td>\n      <td>G2</td>\n      <td></td>\n      <td>POP</td>\n    </tr>\n    <tr>\n      <th>10</th>\n      <td></td>\n      <td>G3</td>\n      <td></td>\n      <td>POP</td>\n    </tr>\n  </tbody>\n</table>\n</div>"
     },
     "metadata": {},
     "execution_count": 288
    }
   ],
   "source": [
    "test5"
   ]
  },
  {
   "cell_type": "code",
   "execution_count": 284,
   "metadata": {},
   "outputs": [
    {
     "output_type": "execute_result",
     "data": {
      "text/plain": [
       "  Phone                 Id          Email OrderId\n",
       "1   376  [C, E, [A, B, D]]  [ ,  , gmail]        \n",
       "1   376  [C, E, [A, B, D]]  [ ,  , gmail]        \n",
       "1   376  [C, E, [A, B, D]]  [ ,  , gmail]        \n",
       "2   788           [P1, P2]         [ ,  ]        \n",
       "2   788           [P1, P2]         [ ,  ]        \n",
       "3   972     [A4, [A2, A3]]     [ , yahoo]        \n",
       "3   972     [A4, [A2, A3]]     [ , yahoo]        \n",
       "3   972     [A4, [A2, A3]]     [ , yahoo]        \n",
       "3                        D          gmail        \n",
       "6                       A2          yahoo        "
      ],
      "text/html": "<div>\n<style scoped>\n    .dataframe tbody tr th:only-of-type {\n        vertical-align: middle;\n    }\n\n    .dataframe tbody tr th {\n        vertical-align: top;\n    }\n\n    .dataframe thead th {\n        text-align: right;\n    }\n</style>\n<table border=\"1\" class=\"dataframe\">\n  <thead>\n    <tr style=\"text-align: right;\">\n      <th></th>\n      <th>Phone</th>\n      <th>Id</th>\n      <th>Email</th>\n      <th>OrderId</th>\n    </tr>\n  </thead>\n  <tbody>\n    <tr>\n      <th>1</th>\n      <td>376</td>\n      <td>[C, E, [A, B, D]]</td>\n      <td>[ ,  , gmail]</td>\n      <td></td>\n    </tr>\n    <tr>\n      <th>1</th>\n      <td>376</td>\n      <td>[C, E, [A, B, D]]</td>\n      <td>[ ,  , gmail]</td>\n      <td></td>\n    </tr>\n    <tr>\n      <th>1</th>\n      <td>376</td>\n      <td>[C, E, [A, B, D]]</td>\n      <td>[ ,  , gmail]</td>\n      <td></td>\n    </tr>\n    <tr>\n      <th>2</th>\n      <td>788</td>\n      <td>[P1, P2]</td>\n      <td>[ ,  ]</td>\n      <td></td>\n    </tr>\n    <tr>\n      <th>2</th>\n      <td>788</td>\n      <td>[P1, P2]</td>\n      <td>[ ,  ]</td>\n      <td></td>\n    </tr>\n    <tr>\n      <th>3</th>\n      <td>972</td>\n      <td>[A4, [A2, A3]]</td>\n      <td>[ , yahoo]</td>\n      <td></td>\n    </tr>\n    <tr>\n      <th>3</th>\n      <td>972</td>\n      <td>[A4, [A2, A3]]</td>\n      <td>[ , yahoo]</td>\n      <td></td>\n    </tr>\n    <tr>\n      <th>3</th>\n      <td>972</td>\n      <td>[A4, [A2, A3]]</td>\n      <td>[ , yahoo]</td>\n      <td></td>\n    </tr>\n    <tr>\n      <th>3</th>\n      <td></td>\n      <td>D</td>\n      <td>gmail</td>\n      <td></td>\n    </tr>\n    <tr>\n      <th>6</th>\n      <td></td>\n      <td>A2</td>\n      <td>yahoo</td>\n      <td></td>\n    </tr>\n  </tbody>\n</table>\n</div>"
     },
     "metadata": {},
     "execution_count": 284
    }
   ],
   "source": [
    "test5[test5['OrderId'].eq(\" \")]"
   ]
  },
  {
   "cell_type": "code",
   "execution_count": 278,
   "metadata": {},
   "outputs": [],
   "source": [
    "null_phone = test[test['Phone'].isnull()]"
   ]
  },
  {
   "cell_type": "code",
   "execution_count": 221,
   "metadata": {},
   "outputs": [],
   "source": [
    "test3 = test3.explode(\"OrderId\").explode(\"OrderId\")"
   ]
  },
  {
   "cell_type": "code",
   "execution_count": 224,
   "metadata": {},
   "outputs": [
    {
     "output_type": "execute_result",
     "data": {
      "text/plain": [
       "  OrderId                                              Phone  \\\n",
       "0          [ ,  ,  ,  ,  ,  ,  ,  ,  ,  ,  ,  ,  ,  , 376...   \n",
       "1     ION  [ ,  ,  ,  ,  ,  , 376, 376, 376, 376, 376, 78...   \n",
       "2     POP  [ ,  ,  ,  , 376, 376, 376, 376, 788, 788, 788...   \n",
       "\n",
       "                                                  Id  \\\n",
       "0  [[[C, E, F, A4, G2, G3, P1, P2], [C, E, F, A4,...   \n",
       "1  [[[C, E, F, A4, G2, G3, P1, P2], [C, E, F, A4,...   \n",
       "2  [[[C, E, F, A4, G2, G3, P1, P2], [C, E, F, A4,...   \n",
       "\n",
       "                                               Email  \n",
       "0  [[ ,  , gmail, gmail, yahoo], [ ,  , gmail, gm...  \n",
       "1  [[ ,  , gmail, gmail, yahoo], [ ,  , gmail, gm...  \n",
       "2  [[ ,  , gmail, gmail, yahoo], [ ,  , gmail, gm...  "
      ],
      "text/html": "<div>\n<style scoped>\n    .dataframe tbody tr th:only-of-type {\n        vertical-align: middle;\n    }\n\n    .dataframe tbody tr th {\n        vertical-align: top;\n    }\n\n    .dataframe thead th {\n        text-align: right;\n    }\n</style>\n<table border=\"1\" class=\"dataframe\">\n  <thead>\n    <tr style=\"text-align: right;\">\n      <th></th>\n      <th>OrderId</th>\n      <th>Phone</th>\n      <th>Id</th>\n      <th>Email</th>\n    </tr>\n  </thead>\n  <tbody>\n    <tr>\n      <th>0</th>\n      <td></td>\n      <td>[ ,  ,  ,  ,  ,  ,  ,  ,  ,  ,  ,  ,  ,  , 376...</td>\n      <td>[[[C, E, F, A4, G2, G3, P1, P2], [C, E, F, A4,...</td>\n      <td>[[ ,  , gmail, gmail, yahoo], [ ,  , gmail, gm...</td>\n    </tr>\n    <tr>\n      <th>1</th>\n      <td>ION</td>\n      <td>[ ,  ,  ,  ,  ,  , 376, 376, 376, 376, 376, 78...</td>\n      <td>[[[C, E, F, A4, G2, G3, P1, P2], [C, E, F, A4,...</td>\n      <td>[[ ,  , gmail, gmail, yahoo], [ ,  , gmail, gm...</td>\n    </tr>\n    <tr>\n      <th>2</th>\n      <td>POP</td>\n      <td>[ ,  ,  ,  , 376, 376, 376, 376, 788, 788, 788...</td>\n      <td>[[[C, E, F, A4, G2, G3, P1, P2], [C, E, F, A4,...</td>\n      <td>[[ ,  , gmail, gmail, yahoo], [ ,  , gmail, gm...</td>\n    </tr>\n  </tbody>\n</table>\n</div>"
     },
     "metadata": {},
     "execution_count": 224
    }
   ],
   "source": [
    "test4.groupby(['OrderId']).agg(lambda x: tuple(x)).applymap(list).reset_index()"
   ]
  },
  {
   "cell_type": "code",
   "execution_count": 207,
   "metadata": {},
   "outputs": [],
   "source": [
    "test5 = test3[test3['OrderId'].isnull()]"
   ]
  },
  {
   "cell_type": "code",
   "execution_count": 213,
   "metadata": {},
   "outputs": [
    {
     "output_type": "execute_result",
     "data": {
      "text/plain": [
       "   Email         Id              Phone          OrderId\n",
       "0  gmail  [A, B, D]  [376.0, nan, nan]  [nan, ION, nan]\n",
       "1  yahoo   [A2, A3]       [nan, 972.0]       [nan, nan]"
      ],
      "text/html": "<div>\n<style scoped>\n    .dataframe tbody tr th:only-of-type {\n        vertical-align: middle;\n    }\n\n    .dataframe tbody tr th {\n        vertical-align: top;\n    }\n\n    .dataframe thead th {\n        text-align: right;\n    }\n</style>\n<table border=\"1\" class=\"dataframe\">\n  <thead>\n    <tr style=\"text-align: right;\">\n      <th></th>\n      <th>Email</th>\n      <th>Id</th>\n      <th>Phone</th>\n      <th>OrderId</th>\n    </tr>\n  </thead>\n  <tbody>\n    <tr>\n      <th>0</th>\n      <td>gmail</td>\n      <td>[A, B, D]</td>\n      <td>[376.0, nan, nan]</td>\n      <td>[nan, ION, nan]</td>\n    </tr>\n    <tr>\n      <th>1</th>\n      <td>yahoo</td>\n      <td>[A2, A3]</td>\n      <td>[nan, 972.0]</td>\n      <td>[nan, nan]</td>\n    </tr>\n  </tbody>\n</table>\n</div>"
     },
     "metadata": {},
     "execution_count": 213
    }
   ],
   "source": [
    "test.groupby(['Email']).agg(lambda x: tuple(x)).applymap(list).reset_index()"
   ]
  },
  {
   "cell_type": "code",
   "execution_count": null,
   "metadata": {},
   "outputs": [],
   "source": []
  }
 ]
}